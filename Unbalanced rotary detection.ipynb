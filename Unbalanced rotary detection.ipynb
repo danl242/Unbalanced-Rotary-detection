{
  "nbformat": 4,
  "nbformat_minor": 0,
  "metadata": {
    "colab": {
      "name": "Copy of Homework3GroupM.ipynb",
      "provenance": [],
      "collapsed_sections": []
    },
    "kernelspec": {
      "name": "python3",
      "display_name": "Python 3"
    },
    "language_info": {
      "name": "python"
    }
  },
  "cells": [
    {
      "cell_type": "markdown",
      "metadata": {
        "id": "s6Caog0w5BFw"
      },
      "source": [
        "#Data Import"
      ]
    },
    {
      "cell_type": "markdown",
      "metadata": {
        "id": "Qe-NRg5U5Hm6"
      },
      "source": [
        "Import libraries"
      ]
    },
    {
      "cell_type": "code",
      "metadata": {
        "id": "MXYTVNKuIOLl"
      },
      "source": [
        "import pandas as pd\n",
        "import numpy as np\n",
        "import scipy, matplotlib\n",
        "from matplotlib import pyplot as plt\n",
        "from scipy.fft import fft, fftfreq\n",
        "from scipy.stats import kurtosis\n",
        "from scipy.signal import find_peaks\n",
        "from sklearn import preprocessing\n",
        "from sklearn.feature_selection import chi2, f_classif, SelectPercentile\n",
        "from sklearn.feature_selection import f_regression\n",
        "from sklearn.feature_selection import SelectKBest\n",
        "from sklearn.linear_model import LogisticRegression\n",
        "from sklearn.preprocessing import StandardScaler\n",
        "from sklearn.preprocessing import MinMaxScaler\n",
        "from sklearn.metrics import roc_curve\n"
      ],
      "execution_count": null,
      "outputs": []
    },
    {
      "cell_type": "code",
      "metadata": {
        "id": "QATMx7dLL-jk"
      },
      "source": [
        "data_listH = [\"Normal Data Mar-26-14 Time 1522-1.txt\", \"Normal Data Mar-26-14 Time 1523-2.txt\", \n",
        "\"Normal Data Mar-26-14 Time 1523-3.txt\",\n",
        "\"Normal Data Mar-26-14 Time 1524-4.txt\",\n",
        "\"Normal Data Mar-26-14 Time 1524-5.txt\",\n",
        "\"Normal Data Mar-26-14 Time 1525-6.txt\",\n",
        "\"Normal Data Mar-26-14 Time 1525-7.txt\",\n",
        "\"Normal Data Mar-26-14 Time 1528-8.txt\",\n",
        "\"Normal Data Mar-26-14 Time 1529-9.txt\",\n",
        "\"Normal Data Mar-26-14 Time 1529-10.txt\",\n",
        "\"Normal Data Mar-26-14 Time 1529-11.txt\",\n",
        "\"Normal Data Mar-26-14 Time 1530-12.txt\",\n",
        "\"Normal Data Mar-26-14 Time 1530-13.txt\",\n",
        "\"Normal Data Mar-26-14 Time 1530-14.txt\",\n",
        "\"Normal Data Mar-26-14 Time 1531-15.txt\",\n",
        "\"Normal Data Mar-26-14 Time 1531-16.txt\",\n",
        "\"Normal Data Mar-26-14 Time 1531-17.txt\",\n",
        "\"Normal Data Mar-26-14 Time 1532-18.txt\",\n",
        "\"Normal Data Mar-26-14 Time 1532-19.txt\",\n",
        "\"Normal Data Mar-26-14 Time 1532-20.txt\"]"
      ],
      "execution_count": null,
      "outputs": []
    },
    {
      "cell_type": "code",
      "metadata": {
        "id": "cnfdTZ6MMBbM"
      },
      "source": [
        "data_listF1 = [\"Unbalance 1 Mar-26-14 Time 1546-1.txt\", \"Unbalance 1 Mar-26-14 Time 1546-2.txt\",\n",
        "\"Unbalance 1 Mar-26-14 Time 1547-3.txt\",\n",
        "\"Unbalance 1 Mar-26-14 Time 1547-4.txt\",\n",
        "\"Unbalance 1 Mar-26-14 Time 1547-5.txt\",\n",
        "\"Unbalance 1 Mar-26-14 Time 1548-6.txt\",\n",
        "\"Unbalance 1 Mar-26-14 Time 1548-7.txt\",\n",
        "\"Unbalance 1 Mar-26-14 Time 1548-8.txt\",\n",
        "\"Unbalance 1 Mar-26-14 Time 1548-9.txt\",\n",
        "\"Unbalance 1 Mar-26-14 Time 1549-10.txt\",\n",
        "\"Unbalance 1 Mar-26-14 Time 1549-11.txt\",\n",
        "\"Unbalance 1 Mar-26-14 Time 1552-22.txt\",\n",
        "\"Unbalance 1 Mar-26-14 Time 1553-23.txt\",\n",
        "\"Unbalance 1 Mar-26-14 Time 1553-24.txt\",\n",
        "\"Unbalance 1 Mar-26-14 Time 1553-25.txt\",\n",
        "\"Unbalance 1 Mar-26-14 Time 1554-26.txt\",\n",
        "\"Unbalance 1 Mar-26-14 Time 1554-27.txt\",\n",
        "\"Unbalance 1 Mar-26-14 Time 1554-28.txt\",\n",
        "\"Unbalance 1 Mar-26-14 Time 1555-29.txt\",\n",
        "\"Unbalance 1 Mar-26-14 Time 1556-30.txt\"]"
      ],
      "execution_count": null,
      "outputs": []
    },
    {
      "cell_type": "code",
      "metadata": {
        "id": "CgBg0bJ6Oupl"
      },
      "source": [
        "data_listF2 = ['Unbalance 2 Mar-26-14 Time 1559-1.txt',\n",
        "'Unbalance 2 Mar-26-14 Time 1559-2.txt',\n",
        "'Unbalance 2 Mar-26-14 Time 1600-3.txt',\n",
        "'Unbalance 2 Mar-26-14 Time 1600-4.txt',\n",
        "'Unbalance 2 Mar-26-14 Time 1601-5.txt',\n",
        "'Unbalance 2 Mar-26-14 Time 1601-6.txt',\n",
        "'Unbalance 2 Mar-26-14 Time 1601-7.txt',\n",
        "'Unbalance 2 Mar-26-14 Time 1602-8.txt',\n",
        "'Unbalance 2 Mar-26-14 Time 1602-9.txt',\n",
        "'Unbalance 2 Mar-26-14 Time 1602-10.txt',\n",
        "'Unbalance 2 Mar-26-14 Time 1603-11.txt',\n",
        "'Unbalance 2 Mar-26-14 Time 1603-12.txt',\n",
        "'Unbalance 2 Mar-26-14 Time 1603-13.txt',\n",
        "'Unbalance 2 Mar-26-14 Time 1604-14.txt',\n",
        "'Unbalance 2 Mar-26-14 Time 1604-15.txt',\n",
        "'Unbalance 2 Mar-26-14 Time 1604-16.txt',\n",
        "'Unbalance 2 Mar-26-14 Time 1605-17.txt',\n",
        "'Unbalance 2 Mar-26-14 Time 1605-18.txt',\n",
        "'Unbalance 2 Mar-26-14 Time 1605-19.txt',\n",
        "'Unbalance 2 Mar-26-14 Time 1606-20.txt']"
      ],
      "execution_count": null,
      "outputs": []
    },
    {
      "cell_type": "code",
      "metadata": {
        "id": "LNEhnIn0O79E"
      },
      "source": [
        "data_listTest = ['Data Mar-26-14 Time 1533-21.txt',\n",
        "'Data Mar-26-14 Time 1534-22.txt',\n",
        "'Data Mar-26-14 Time 1540-23.txt',\n",
        "'Data Mar-26-14 Time 1540-24.txt',\n",
        "'Data Mar-26-14 Time 1540-25.txt',\n",
        "'Data Mar-26-14 Time 1543-26.txt',\n",
        "'Data Mar-26-14 Time 1543-27.txt',\n",
        "'Data Mar-26-14 Time 1543-28.txt',\n",
        "'Data Mar-26-14 Time 1544-29.txt',\n",
        "'Data Mar-26-14 Time 1544-30.txt',\n",
        "'Mar-26-14 Time 1549-12.txt',\n",
        "'Mar-26-14 Time 1550-13.txt',\n",
        "'Mar-26-14 Time 1550-14.txt',\n",
        "'Mar-26-14 Time 1550-15.txt',\n",
        "'Mar-26-14 Time 1551-16.txt',\n",
        "'Mar-26-14 Time 1551-17.txt',\n",
        "'Mar-26-14 Time 1551-18.txt',\n",
        "'Mar-26-14 Time 1552-19.txt',\n",
        "'Mar-26-14 Time 1552-20.txt',\n",
        "'Mar-26-14 Time 1552-21.txt',\n",
        "'Mar-26-14 Time 1606-21.txt',\n",
        "'Mar-26-14 Time 1606-22.txt',\n",
        "'Mar-26-14 Time 1607-23.txt',\n",
        "'Mar-26-14 Time 1607-24.txt',\n",
        "'Mar-26-14 Time 1611-25.txt',\n",
        "'Mar-26-14 Time 1616-26.txt',\n",
        "'Mar-26-14 Time 1617-27.txt',\n",
        "'Mar-26-14 Time 1617-28.txt',\n",
        "'Mar-26-14 Time 1618-29.txt',\n",
        "'Mar-26-14 Time 1618-30.txt']"
      ],
      "execution_count": null,
      "outputs": []
    },
    {
      "cell_type": "markdown",
      "metadata": {
        "id": "g4dgT6bW5RIp"
      },
      "source": [
        "#Data Visualization"
      ]
    },
    {
      "cell_type": "code",
      "metadata": {
        "id": "cEBpasguLlQN"
      },
      "source": [
        "df_featuresH = pd.DataFrame(columns=['RMS','P2P' 'STD1', 'Kurtosis', 'peak1', 'peak2', 'peak3', 'Health']) # Creating iterable healthy features matrix\n",
        "df_featuresF1 = pd.DataFrame(columns=['RMS', 'P2P', 'STD1', 'Kurtosis', 'peak1', 'peak2', 'peak3' 'Health']) # Creating iterable Unbalanced 1 features matrix\n",
        "df_featuresF2 = pd.DataFrame(columns=['RMS', 'P2P', 'STD1', 'Kurtosis', 'peak1', 'peak2', 'peak3' 'Health']) # Creating iterable Unbalanced 1 features matrix\n",
        "df_featuresTest = pd.DataFrame(columns=['RMS', 'P2P', 'STD1', 'Kurtosis', 'peak1', 'peak2', 'peak3']) # Creating iterable test data feature matrix"
      ],
      "execution_count": null,
      "outputs": []
    },
    {
      "cell_type": "code",
      "metadata": {
        "id": "hqvOFpnEPCqn"
      },
      "source": [
        "def visual(a): #Utilizes input \"a\" database to callout and plot data\n",
        "    df = pd.read_csv(a) \n",
        "    df1 = df[4:].reset_index(drop=True)\n",
        "    df2 = df1.iloc[:,0]\n",
        "    df3=df2.astype(float)\n",
        "    Fs = 2560; #hz, sampling frequency\n",
        "    T2=1/Fs;    #Sampling Period\n",
        "    L=len(df1)\n",
        "    t=np.linspace(0.0, (L-1)*T2, L)\n",
        "    g=np.array(df2).astype(float)\n",
        "    plt.plot(t,g)"
      ],
      "execution_count": null,
      "outputs": []
    },
    {
      "cell_type": "code",
      "metadata": {
        "id": "2EJ1wFvrPKqV"
      },
      "source": [
        "def visualFFT(a): #Utilizes input \"a\" database to plot Fourier transform of data \n",
        "    df = pd.read_csv(a)\n",
        "    df1 = df[4:].reset_index(drop=True)\n",
        "    df2 = df1.iloc[:,0]\n",
        "    df3=df2.astype(float)\n",
        "    N = 2560\n",
        "    T = 1.0 / 165\n",
        "    x = np.linspace(0.0, N*T, N, endpoint=False)\n",
        "\n",
        "    yf = fft(df2)\n",
        "    xf = fftfreq(N, T)[:N//2]\n",
        "    plt.plot(xf, 2.0/N * np.abs(yf[0:N//2]))\n",
        "    plt.grid()\n",
        "    plt.show()"
      ],
      "execution_count": null,
      "outputs": []
    },
    {
      "cell_type": "code",
      "metadata": {
        "colab": {
          "base_uri": "https://localhost:8080/",
          "height": 265
        },
        "id": "A9pqIjOePNM2",
        "outputId": "1cdad862-2b56-4c89-8540-807d3067fe57"
      },
      "source": [
        "visualFFT('Unbalance 1 Mar-26-14 Time 1547-3.txt') #Use this to iterate through dataset FFT"
      ],
      "execution_count": null,
      "outputs": [
        {
          "output_type": "display_data",
          "data": {
            "image/png": "[encoded data removed]",
            "text/plain": [
              "<Figure size 432x288 with 1 Axes>"
            ]
          },
          "metadata": {
            "tags": [],
            "needs_background": "light"
          }
        }
      ]
    },
    {
      "cell_type": "code",
      "metadata": {
        "colab": {
          "base_uri": "https://localhost:8080/",
          "height": 295
        },
        "id": "mFfRjjC4PaQg",
        "outputId": "e037d281-1b7b-40cb-e311-a98249363755"
      },
      "source": [
        " for n in data_listF1:    #For the Unbalanced 1 data\n",
        "    df = pd.read_csv(n)\n",
        "    df1 = df[4:].reset_index(drop=True)\n",
        "    df2 = df1.iloc[:,0]\n",
        "    df3=df2.astype(float)\n",
        "    N = len(df3) #Finds number of samples\n",
        "    T = 1.0 / 2560 #Finds period given sampling rate\n",
        "    x = np.linspace(0.0, N*T, N, endpoint=False) #Creating X Time Domain\n",
        "\n",
        "    yf = fft(df2) #Fast fourier transform of time data\n",
        "    xf = fftfreq(N, T)[:N//2] #Creating frequency domain \n",
        "    plt.plot(xf[150:1000], 2.0/N * np.abs(yf[150:1000])) #Plotting truncated frequency spectrum\n",
        "    plt.xlabel('Frequency (Hz)')\n",
        "    plt.ylabel('Amplitude')\n",
        "    plt.title('Unbalanced 1 FFT')\n",
        "\n",
        "    peak1max=max(2.0/N * np.abs(yf[150:500])) #Retrieving max peak value at 20hz (smaller window to reduce noise)\n",
        "    peak2max=max(2.0/N * np.abs(yf[500:750])) #Retrieving max peak value at 40hz (smaller window to reduce noise)\n",
        "    peak3max=max(2.0/N * np.abs(yf[750:1000])) #Retrieving max peak value at 60hz (smaller window to reduce noise)\n",
        "\n",
        "    rms=np.sqrt(np.mean(df3**2)) #Finding root mean square of data in time domain\n",
        "    ptp = np.ptp(df3) #Finding Peak to Peak value\n",
        "    std1=np.std(df3) #Finding Standard deviation of time domain\n",
        "    kurt=kurtosis(df3) #Finding Kurtosis of time domain\n",
        "    health = 1 #Unbalanced 1 data has set health value of 1\n",
        "    feat = pd.DataFrame({'RMS': rms,'P2P': ptp, 'STD1': std1, 'Kurtosis': kurt, 'peak1': peak1max, 'peak2': peak2max, 'peak3': peak3max, 'Health': health}, index=[0])\n",
        "    df_featuresF1 = df_featuresF1.append(feat, ignore_index = True)"
      ],
      "execution_count": null,
      "outputs": [
        {
          "output_type": "display_data",
          "data": {
            "image/png": "[encoded data removed]",
            "text/plain": [
              "<Figure size 432x288 with 1 Axes>"
            ]
          },
          "metadata": {
            "tags": [],
            "needs_background": "light"
          }
        }
      ]
    },
    {
      "cell_type": "code",
      "metadata": {
        "colab": {
          "base_uri": "https://localhost:8080/",
          "height": 295
        },
        "id": "erMhpJo4RIRL",
        "outputId": "ec482721-1f25-4d8c-ed69-f09f750e61ac"
      },
      "source": [
        " for n in data_listF2:    #For the Unbalanced 2 data\n",
        "    df = pd.read_csv(n)\n",
        "    df1 = df[4:].reset_index(drop=True)\n",
        "    df2 = df1.iloc[:,0]\n",
        "    df3=df2.astype(float)\n",
        "    N = len(df3) #Finds number of samples\n",
        "    T = 1.0 / 2560 #Finds period given sampling rate\n",
        "    x = np.linspace(0.0, N*T, N, endpoint=False) #Creating X Time Domain\n",
        "\n",
        "    yf = fft(df2) #Fast fourier transform of time data\n",
        "    xf = fftfreq(N, T)[:N//2] #Creating frequency domain \n",
        "    plt.plot(xf[150:1000], 2.0/N * np.abs(yf[150:1000])) #Plotting truncated frequency spectrum\n",
        "    plt.xlabel('Frequency (Hz)')\n",
        "    plt.ylabel('Amplitude')\n",
        "    plt.title('Unbalanced 2 FFT')\n",
        "\n",
        "    peak1max=max(2.0/N * np.abs(yf[150:500])) #Retrieving max peak value at 20hz (smaller window to reduce noise)\n",
        "    peak2max=max(2.0/N * np.abs(yf[500:750])) #Retrieving max peak value at 40hz (smaller window to reduce noise)\n",
        "    peak3max=max(2.0/N * np.abs(yf[750:1000])) #Retrieving max peak value at 60hz (smaller window to reduce noise)\n",
        "\n",
        "    rms=np.sqrt(np.mean(df3**2)) #Finding root mean square of data in time domain\n",
        "    ptp = np.ptp(df3) #Finding Peak to Peak value\n",
        "    std1=np.std(df3) #Finding Standard deviation of time domain\n",
        "    kurt=kurtosis(df3) #Finding Kurtosis of time domain\n",
        "    health = 2 #Unbalanced 2 data has set health value of 2\n",
        "    feat = pd.DataFrame({'RMS': rms,'P2P': ptp, 'STD1': std1, 'Kurtosis': kurt, 'peak1': peak1max, 'peak2': peak2max, 'peak3': peak3max, 'Health': health}, index=[0])\n",
        "    df_featuresF2 = df_featuresF2.append(feat, ignore_index = True)"
      ],
      "execution_count": null,
      "outputs": [
        {
          "output_type": "display_data",
          "data": {
            "image/png": "[encoded data removed]",
            "text/plain": [
              "<Figure size 432x288 with 1 Axes>"
            ]
          },
          "metadata": {
            "tags": [],
            "needs_background": "light"
          }
        }
      ]
    },
    {
      "cell_type": "code",
      "metadata": {
        "colab": {
          "base_uri": "https://localhost:8080/",
          "height": 295
        },
        "id": "LDaYALQNRYpO",
        "outputId": "b1c17ec8-7dfc-49d3-b915-aae9aaaec06f"
      },
      "source": [
        " for n in data_listH:    #For the Healthy data\n",
        "    df = pd.read_csv(n)\n",
        "    df1 = df[4:].reset_index(drop=True)\n",
        "    df2 = df1.iloc[:,0]\n",
        "    df3=df2.astype(float)\n",
        "    N = len(df3) #Finds number of samples\n",
        "    T = 1.0 / 2560 #Finds period given sampling rate\n",
        "    x = np.linspace(0.0, N*T, N, endpoint=False) #Creating X Time Domain\n",
        "\n",
        "    yf = fft(df2) #Fast fourier transform of time data\n",
        "    xf = fftfreq(N, T)[:N//2] #Creating frequency domain \n",
        "    plt.plot(xf[150:1000], 2.0/N * np.abs(yf[150:1000])) #Plotting truncated frequency spectrum\n",
        "    plt.xlabel('Frequency (Hz)')\n",
        "    plt.ylabel('Amplitude')\n",
        "    plt.title('Healthy FFT')\n",
        "\n",
        "    peak1max=max(2.0/N * np.abs(yf[150:500])) #Retrieving max peak value at 20hz (smaller window to reduce noise)\n",
        "    peak2max=max(2.0/N * np.abs(yf[500:750])) #Retrieving max peak value at 40hz (smaller window to reduce noise)\n",
        "    peak3max=max(2.0/N * np.abs(yf[750:1000])) #Retrieving max peak value at 60hz (smaller window to reduce noise)\n",
        "\n",
        "    rms=np.sqrt(np.mean(df3**2)) #Finding root mean square of data in time domain\n",
        "    ptp = np.ptp(df3) #Finding Peak to Peak value\n",
        "    std1=np.std(df3) #Finding Standard deviation of time domain\n",
        "    kurt=kurtosis(df3) #Finding Kurtosis of time domain\n",
        "    health = 3 #Healthy data has set health value of 3\n",
        "    feat = pd.DataFrame({'RMS': rms,'P2P': ptp, 'STD1': std1, 'Kurtosis': kurt, 'peak1': peak1max, 'peak2': peak2max, 'peak3': peak3max, 'Health': health}, index=[0])\n",
        "    df_featuresH = df_featuresH.append(feat, ignore_index = True)"
      ],
      "execution_count": null,
      "outputs": [
        {
          "output_type": "display_data",
          "data": {
            "image/png": "[encoded data removed]",
            "text/plain": [
              "<Figure size 432x288 with 1 Axes>"
            ]
          },
          "metadata": {
            "tags": [],
            "needs_background": "light"
          }
        }
      ]
    },
    {
      "cell_type": "code",
      "metadata": {
        "colab": {
          "base_uri": "https://localhost:8080/",
          "height": 295
        },
        "id": "QsGOqiluR48-",
        "outputId": "f4c3ad0b-bc83-4681-aa93-488333c94bca"
      },
      "source": [
        " for n in data_listTest:    #For the Test data\n",
        "    df = pd.read_csv(n)\n",
        "    df1 = df[4:].reset_index(drop=True)\n",
        "    df2 = df1.iloc[:,0]\n",
        "    df3=df2.astype(float)\n",
        "    N = len(df3) #Finds number of samples\n",
        "    T = 1.0 / 2560 #Finds period given sampling rate\n",
        "    x = np.linspace(0.0, N*T, N, endpoint=False) #Creating X Time Domain\n",
        "\n",
        "    yf = fft(df2) #Fast fourier transform of time data\n",
        "    xf = fftfreq(N, T)[:N//2] #Creating frequency domain \n",
        "    plt.plot(xf[150:1000], 2.0/N * np.abs(yf[150:1000])) #Plotting truncated frequency spectrum\n",
        "    plt.xlabel('Frequency (Hz)')\n",
        "    plt.ylabel('Amplitude')\n",
        "    plt.title('Test Data FFT')\n",
        "    \n",
        "    peak1max=max(2.0/N * np.abs(yf[150:500])) #Retrieving max peak value at 20hz (smaller window to reduce noise)\n",
        "    peak2max=max(2.0/N * np.abs(yf[500:750])) #Retrieving max peak value at 40hz (smaller window to reduce noise)\n",
        "    peak3max=max(2.0/N * np.abs(yf[750:1000])) #Retrieving max peak value at 60hz (smaller window to reduce noise)\n",
        "\n",
        "    rms=np.sqrt(np.mean(df3**2)) #Finding root mean square of data in time domain\n",
        "    ptp = np.ptp(df3) #Finding Peak to Peak value\n",
        "    std1=np.std(df3) #Finding Standard deviation of time domain\n",
        "    kurt=kurtosis(df3) #Finding Kurtosis of time domain\n",
        "\n",
        "    feat = pd.DataFrame({'RMS': rms,'P2P': ptp, 'STD1': std1, 'Kurtosis': kurt, 'peak1': peak1max, 'peak2': peak2max, 'peak3': peak3max}, index=[0])\n",
        "    df_featuresTest = df_featuresTest.append(feat, ignore_index = True)"
      ],
      "execution_count": null,
      "outputs": [
        {
          "output_type": "display_data",
          "data": {
            "image/png": "[encoded data removed]",
            "text/plain": [
              "<Figure size 432x288 with 1 Axes>"
            ]
          },
          "metadata": {
            "tags": [],
            "needs_background": "light"
          }
        }
      ]
    },
    {
      "cell_type": "code",
      "metadata": {
        "id": "LRsdogvBSRS6"
      },
      "source": [
        "df_featuresTrain = df_featuresH.append(df_featuresF1, ignore_index = True)\n",
        "df_featuresTrain = df_featuresTrain.append(df_featuresF2, ignore_index = True)\n"
      ],
      "execution_count": null,
      "outputs": []
    },
    {
      "cell_type": "code",
      "metadata": {
        "id": "YKF6EMPuSU7V"
      },
      "source": [
        "df_featuresTrain = df_featuresTrain.drop('P2PSTD1', 1)\n",
        "df_featuresTrain = df_featuresTrain.drop('peak3Health', 1)"
      ],
      "execution_count": null,
      "outputs": []
    },
    {
      "cell_type": "code",
      "metadata": {
        "colab": {
          "base_uri": "https://localhost:8080/",
          "height": 1000
        },
        "id": "SSmRlHryTc_d",
        "outputId": "f126ed84-f1f6-49a9-82ce-b59104f1e81c"
      },
      "source": [
        "df_featuresTrain #Labeled Data"
      ],
      "execution_count": null,
      "outputs": [
        {
          "output_type": "execute_result",
          "data": {
            "text/html": [
              "<div>\n",
              "<style scoped>\n",
              "    .dataframe tbody tr th:only-of-type {\n",
              "        vertical-align: middle;\n",
              "    }\n",
              "\n",
              "    .dataframe tbody tr th {\n",
              "        vertical-align: top;\n",
              "    }\n",
              "\n",
              "    .dataframe thead th {\n",
              "        text-align: right;\n",
              "    }\n",
              "</style>\n",
              "<table border=\"1\" class=\"dataframe\">\n",
              "  <thead>\n",
              "    <tr style=\"text-align: right;\">\n",
              "      <th></th>\n",
              "      <th>RMS</th>\n",
              "      <th>Kurtosis</th>\n",
              "      <th>peak1</th>\n",
              "      <th>peak2</th>\n",
              "      <th>peak3</th>\n",
              "      <th>Health</th>\n",
              "      <th>P2P</th>\n",
              "      <th>STD1</th>\n",
              "    </tr>\n",
              "  </thead>\n",
              "  <tbody>\n",
              "    <tr>\n",
              "      <th>0</th>\n",
              "      <td>0.066409</td>\n",
              "      <td>0.587488</td>\n",
              "      <td>0.000882</td>\n",
              "      <td>0.004051</td>\n",
              "      <td>0.006303</td>\n",
              "      <td>3</td>\n",
              "      <td>0.613653</td>\n",
              "      <td>0.066409</td>\n",
              "    </tr>\n",
              "    <tr>\n",
              "      <th>1</th>\n",
              "      <td>0.092479</td>\n",
              "      <td>-0.061449</td>\n",
              "      <td>0.000864</td>\n",
              "      <td>0.001168</td>\n",
              "      <td>0.001974</td>\n",
              "      <td>3</td>\n",
              "      <td>0.688554</td>\n",
              "      <td>0.092479</td>\n",
              "    </tr>\n",
              "    <tr>\n",
              "      <th>2</th>\n",
              "      <td>0.070198</td>\n",
              "      <td>0.317284</td>\n",
              "      <td>0.001341</td>\n",
              "      <td>0.001535</td>\n",
              "      <td>0.006684</td>\n",
              "      <td>3</td>\n",
              "      <td>0.634557</td>\n",
              "      <td>0.070198</td>\n",
              "    </tr>\n",
              "    <tr>\n",
              "      <th>3</th>\n",
              "      <td>0.076684</td>\n",
              "      <td>0.576105</td>\n",
              "      <td>0.001258</td>\n",
              "      <td>0.001205</td>\n",
              "      <td>0.004014</td>\n",
              "      <td>3</td>\n",
              "      <td>0.691687</td>\n",
              "      <td>0.076684</td>\n",
              "    </tr>\n",
              "    <tr>\n",
              "      <th>4</th>\n",
              "      <td>0.073982</td>\n",
              "      <td>1.483103</td>\n",
              "      <td>0.001418</td>\n",
              "      <td>0.001344</td>\n",
              "      <td>0.007760</td>\n",
              "      <td>3</td>\n",
              "      <td>0.837318</td>\n",
              "      <td>0.073979</td>\n",
              "    </tr>\n",
              "    <tr>\n",
              "      <th>5</th>\n",
              "      <td>0.134210</td>\n",
              "      <td>5.300281</td>\n",
              "      <td>0.001674</td>\n",
              "      <td>0.002654</td>\n",
              "      <td>0.014857</td>\n",
              "      <td>3</td>\n",
              "      <td>2.229877</td>\n",
              "      <td>0.134210</td>\n",
              "    </tr>\n",
              "    <tr>\n",
              "      <th>6</th>\n",
              "      <td>0.077980</td>\n",
              "      <td>-0.066437</td>\n",
              "      <td>0.000799</td>\n",
              "      <td>0.001851</td>\n",
              "      <td>0.012911</td>\n",
              "      <td>3</td>\n",
              "      <td>0.726927</td>\n",
              "      <td>0.077979</td>\n",
              "    </tr>\n",
              "    <tr>\n",
              "      <th>7</th>\n",
              "      <td>0.069538</td>\n",
              "      <td>0.591563</td>\n",
              "      <td>0.002228</td>\n",
              "      <td>0.001125</td>\n",
              "      <td>0.006843</td>\n",
              "      <td>3</td>\n",
              "      <td>0.693227</td>\n",
              "      <td>0.069512</td>\n",
              "    </tr>\n",
              "    <tr>\n",
              "      <th>8</th>\n",
              "      <td>0.068775</td>\n",
              "      <td>0.414617</td>\n",
              "      <td>0.002361</td>\n",
              "      <td>0.001861</td>\n",
              "      <td>0.007643</td>\n",
              "      <td>3</td>\n",
              "      <td>0.739882</td>\n",
              "      <td>0.068771</td>\n",
              "    </tr>\n",
              "    <tr>\n",
              "      <th>9</th>\n",
              "      <td>0.060055</td>\n",
              "      <td>0.309459</td>\n",
              "      <td>0.002273</td>\n",
              "      <td>0.002789</td>\n",
              "      <td>0.007404</td>\n",
              "      <td>3</td>\n",
              "      <td>0.576223</td>\n",
              "      <td>0.060053</td>\n",
              "    </tr>\n",
              "    <tr>\n",
              "      <th>10</th>\n",
              "      <td>0.072373</td>\n",
              "      <td>0.258234</td>\n",
              "      <td>0.001854</td>\n",
              "      <td>0.003045</td>\n",
              "      <td>0.008658</td>\n",
              "      <td>3</td>\n",
              "      <td>0.641224</td>\n",
              "      <td>0.072372</td>\n",
              "    </tr>\n",
              "    <tr>\n",
              "      <th>11</th>\n",
              "      <td>0.066710</td>\n",
              "      <td>0.144638</td>\n",
              "      <td>0.001371</td>\n",
              "      <td>0.004349</td>\n",
              "      <td>0.009389</td>\n",
              "      <td>3</td>\n",
              "      <td>0.562270</td>\n",
              "      <td>0.066710</td>\n",
              "    </tr>\n",
              "    <tr>\n",
              "      <th>12</th>\n",
              "      <td>0.072269</td>\n",
              "      <td>0.205581</td>\n",
              "      <td>0.001478</td>\n",
              "      <td>0.002382</td>\n",
              "      <td>0.009923</td>\n",
              "      <td>3</td>\n",
              "      <td>0.627963</td>\n",
              "      <td>0.072269</td>\n",
              "    </tr>\n",
              "    <tr>\n",
              "      <th>13</th>\n",
              "      <td>0.087930</td>\n",
              "      <td>0.277055</td>\n",
              "      <td>0.001201</td>\n",
              "      <td>0.001893</td>\n",
              "      <td>0.009573</td>\n",
              "      <td>3</td>\n",
              "      <td>0.717563</td>\n",
              "      <td>0.087930</td>\n",
              "    </tr>\n",
              "    <tr>\n",
              "      <th>14</th>\n",
              "      <td>0.083998</td>\n",
              "      <td>0.335401</td>\n",
              "      <td>0.000660</td>\n",
              "      <td>0.000831</td>\n",
              "      <td>0.006234</td>\n",
              "      <td>3</td>\n",
              "      <td>0.774508</td>\n",
              "      <td>0.083998</td>\n",
              "    </tr>\n",
              "    <tr>\n",
              "      <th>15</th>\n",
              "      <td>0.056199</td>\n",
              "      <td>0.073374</td>\n",
              "      <td>0.000597</td>\n",
              "      <td>0.000980</td>\n",
              "      <td>0.005834</td>\n",
              "      <td>3</td>\n",
              "      <td>0.560080</td>\n",
              "      <td>0.056199</td>\n",
              "    </tr>\n",
              "    <tr>\n",
              "      <th>16</th>\n",
              "      <td>0.065401</td>\n",
              "      <td>0.389186</td>\n",
              "      <td>0.000654</td>\n",
              "      <td>0.001814</td>\n",
              "      <td>0.004313</td>\n",
              "      <td>3</td>\n",
              "      <td>0.682663</td>\n",
              "      <td>0.065401</td>\n",
              "    </tr>\n",
              "    <tr>\n",
              "      <th>17</th>\n",
              "      <td>0.113008</td>\n",
              "      <td>0.525195</td>\n",
              "      <td>0.000279</td>\n",
              "      <td>0.000630</td>\n",
              "      <td>0.006200</td>\n",
              "      <td>3</td>\n",
              "      <td>1.005776</td>\n",
              "      <td>0.113007</td>\n",
              "    </tr>\n",
              "    <tr>\n",
              "      <th>18</th>\n",
              "      <td>0.079926</td>\n",
              "      <td>0.408180</td>\n",
              "      <td>0.001064</td>\n",
              "      <td>0.001648</td>\n",
              "      <td>0.005070</td>\n",
              "      <td>3</td>\n",
              "      <td>0.683637</td>\n",
              "      <td>0.079926</td>\n",
              "    </tr>\n",
              "    <tr>\n",
              "      <th>19</th>\n",
              "      <td>0.083996</td>\n",
              "      <td>0.752717</td>\n",
              "      <td>0.001034</td>\n",
              "      <td>0.001661</td>\n",
              "      <td>0.005099</td>\n",
              "      <td>3</td>\n",
              "      <td>0.855323</td>\n",
              "      <td>0.083996</td>\n",
              "    </tr>\n",
              "    <tr>\n",
              "      <th>20</th>\n",
              "      <td>0.070201</td>\n",
              "      <td>0.320754</td>\n",
              "      <td>0.004112</td>\n",
              "      <td>0.000817</td>\n",
              "      <td>0.010450</td>\n",
              "      <td>1</td>\n",
              "      <td>0.658280</td>\n",
              "      <td>0.070200</td>\n",
              "    </tr>\n",
              "    <tr>\n",
              "      <th>21</th>\n",
              "      <td>0.068027</td>\n",
              "      <td>0.690171</td>\n",
              "      <td>0.004403</td>\n",
              "      <td>0.001857</td>\n",
              "      <td>0.011069</td>\n",
              "      <td>1</td>\n",
              "      <td>0.780636</td>\n",
              "      <td>0.068026</td>\n",
              "    </tr>\n",
              "    <tr>\n",
              "      <th>22</th>\n",
              "      <td>0.068301</td>\n",
              "      <td>0.121342</td>\n",
              "      <td>0.004361</td>\n",
              "      <td>0.002315</td>\n",
              "      <td>0.010489</td>\n",
              "      <td>1</td>\n",
              "      <td>0.586517</td>\n",
              "      <td>0.068300</td>\n",
              "    </tr>\n",
              "    <tr>\n",
              "      <th>23</th>\n",
              "      <td>0.070574</td>\n",
              "      <td>0.254679</td>\n",
              "      <td>0.004457</td>\n",
              "      <td>0.002284</td>\n",
              "      <td>0.009322</td>\n",
              "      <td>1</td>\n",
              "      <td>0.665536</td>\n",
              "      <td>0.070574</td>\n",
              "    </tr>\n",
              "    <tr>\n",
              "      <th>24</th>\n",
              "      <td>0.055106</td>\n",
              "      <td>0.526863</td>\n",
              "      <td>0.004422</td>\n",
              "      <td>0.001481</td>\n",
              "      <td>0.006306</td>\n",
              "      <td>1</td>\n",
              "      <td>0.554762</td>\n",
              "      <td>0.055106</td>\n",
              "    </tr>\n",
              "    <tr>\n",
              "      <th>25</th>\n",
              "      <td>0.069613</td>\n",
              "      <td>1.312842</td>\n",
              "      <td>0.004482</td>\n",
              "      <td>0.001050</td>\n",
              "      <td>0.007073</td>\n",
              "      <td>1</td>\n",
              "      <td>0.867682</td>\n",
              "      <td>0.069612</td>\n",
              "    </tr>\n",
              "    <tr>\n",
              "      <th>26</th>\n",
              "      <td>0.067989</td>\n",
              "      <td>0.659562</td>\n",
              "      <td>0.004241</td>\n",
              "      <td>0.002269</td>\n",
              "      <td>0.006601</td>\n",
              "      <td>1</td>\n",
              "      <td>0.703592</td>\n",
              "      <td>0.067989</td>\n",
              "    </tr>\n",
              "    <tr>\n",
              "      <th>27</th>\n",
              "      <td>0.054388</td>\n",
              "      <td>0.119523</td>\n",
              "      <td>0.004121</td>\n",
              "      <td>0.002915</td>\n",
              "      <td>0.008268</td>\n",
              "      <td>1</td>\n",
              "      <td>0.452135</td>\n",
              "      <td>0.054388</td>\n",
              "    </tr>\n",
              "    <tr>\n",
              "      <th>28</th>\n",
              "      <td>0.060688</td>\n",
              "      <td>0.806330</td>\n",
              "      <td>0.004210</td>\n",
              "      <td>0.003315</td>\n",
              "      <td>0.006360</td>\n",
              "      <td>1</td>\n",
              "      <td>0.713523</td>\n",
              "      <td>0.060687</td>\n",
              "    </tr>\n",
              "    <tr>\n",
              "      <th>29</th>\n",
              "      <td>0.071278</td>\n",
              "      <td>1.134833</td>\n",
              "      <td>0.004359</td>\n",
              "      <td>0.002813</td>\n",
              "      <td>0.006800</td>\n",
              "      <td>1</td>\n",
              "      <td>0.773714</td>\n",
              "      <td>0.071277</td>\n",
              "    </tr>\n",
              "    <tr>\n",
              "      <th>30</th>\n",
              "      <td>0.062920</td>\n",
              "      <td>0.079968</td>\n",
              "      <td>0.004159</td>\n",
              "      <td>0.003927</td>\n",
              "      <td>0.009171</td>\n",
              "      <td>1</td>\n",
              "      <td>0.515387</td>\n",
              "      <td>0.062919</td>\n",
              "    </tr>\n",
              "    <tr>\n",
              "      <th>31</th>\n",
              "      <td>0.064821</td>\n",
              "      <td>0.206935</td>\n",
              "      <td>0.004733</td>\n",
              "      <td>0.003183</td>\n",
              "      <td>0.006419</td>\n",
              "      <td>1</td>\n",
              "      <td>0.543961</td>\n",
              "      <td>0.064821</td>\n",
              "    </tr>\n",
              "    <tr>\n",
              "      <th>32</th>\n",
              "      <td>0.068834</td>\n",
              "      <td>0.061469</td>\n",
              "      <td>0.004866</td>\n",
              "      <td>0.002660</td>\n",
              "      <td>0.009636</td>\n",
              "      <td>1</td>\n",
              "      <td>0.580538</td>\n",
              "      <td>0.068834</td>\n",
              "    </tr>\n",
              "    <tr>\n",
              "      <th>33</th>\n",
              "      <td>0.102545</td>\n",
              "      <td>0.966724</td>\n",
              "      <td>0.004885</td>\n",
              "      <td>0.001564</td>\n",
              "      <td>0.007708</td>\n",
              "      <td>1</td>\n",
              "      <td>0.984023</td>\n",
              "      <td>0.102544</td>\n",
              "    </tr>\n",
              "    <tr>\n",
              "      <th>34</th>\n",
              "      <td>0.076643</td>\n",
              "      <td>0.140128</td>\n",
              "      <td>0.004877</td>\n",
              "      <td>0.001112</td>\n",
              "      <td>0.007842</td>\n",
              "      <td>1</td>\n",
              "      <td>0.670292</td>\n",
              "      <td>0.076643</td>\n",
              "    </tr>\n",
              "    <tr>\n",
              "      <th>35</th>\n",
              "      <td>0.100112</td>\n",
              "      <td>0.626386</td>\n",
              "      <td>0.004756</td>\n",
              "      <td>0.001626</td>\n",
              "      <td>0.007332</td>\n",
              "      <td>1</td>\n",
              "      <td>0.963107</td>\n",
              "      <td>0.100112</td>\n",
              "    </tr>\n",
              "    <tr>\n",
              "      <th>36</th>\n",
              "      <td>0.074788</td>\n",
              "      <td>1.035265</td>\n",
              "      <td>0.004992</td>\n",
              "      <td>0.001425</td>\n",
              "      <td>0.009532</td>\n",
              "      <td>1</td>\n",
              "      <td>0.862067</td>\n",
              "      <td>0.074787</td>\n",
              "    </tr>\n",
              "    <tr>\n",
              "      <th>37</th>\n",
              "      <td>0.084851</td>\n",
              "      <td>0.488147</td>\n",
              "      <td>0.004860</td>\n",
              "      <td>0.000834</td>\n",
              "      <td>0.006956</td>\n",
              "      <td>1</td>\n",
              "      <td>0.702710</td>\n",
              "      <td>0.084851</td>\n",
              "    </tr>\n",
              "    <tr>\n",
              "      <th>38</th>\n",
              "      <td>0.070587</td>\n",
              "      <td>0.353240</td>\n",
              "      <td>0.004967</td>\n",
              "      <td>0.004310</td>\n",
              "      <td>0.008510</td>\n",
              "      <td>1</td>\n",
              "      <td>0.728812</td>\n",
              "      <td>0.070539</td>\n",
              "    </tr>\n",
              "    <tr>\n",
              "      <th>39</th>\n",
              "      <td>0.070229</td>\n",
              "      <td>0.090136</td>\n",
              "      <td>0.005007</td>\n",
              "      <td>0.003834</td>\n",
              "      <td>0.008462</td>\n",
              "      <td>1</td>\n",
              "      <td>0.658625</td>\n",
              "      <td>0.070219</td>\n",
              "    </tr>\n",
              "    <tr>\n",
              "      <th>40</th>\n",
              "      <td>0.057640</td>\n",
              "      <td>-0.171452</td>\n",
              "      <td>0.017041</td>\n",
              "      <td>0.005680</td>\n",
              "      <td>0.003884</td>\n",
              "      <td>2</td>\n",
              "      <td>0.461003</td>\n",
              "      <td>0.057640</td>\n",
              "    </tr>\n",
              "    <tr>\n",
              "      <th>41</th>\n",
              "      <td>0.054410</td>\n",
              "      <td>0.074822</td>\n",
              "      <td>0.017592</td>\n",
              "      <td>0.005517</td>\n",
              "      <td>0.003970</td>\n",
              "      <td>2</td>\n",
              "      <td>0.477069</td>\n",
              "      <td>0.054410</td>\n",
              "    </tr>\n",
              "    <tr>\n",
              "      <th>42</th>\n",
              "      <td>0.070791</td>\n",
              "      <td>0.887641</td>\n",
              "      <td>0.019293</td>\n",
              "      <td>0.005358</td>\n",
              "      <td>0.004869</td>\n",
              "      <td>2</td>\n",
              "      <td>0.746835</td>\n",
              "      <td>0.070791</td>\n",
              "    </tr>\n",
              "    <tr>\n",
              "      <th>43</th>\n",
              "      <td>0.055021</td>\n",
              "      <td>0.119193</td>\n",
              "      <td>0.018953</td>\n",
              "      <td>0.006275</td>\n",
              "      <td>0.003922</td>\n",
              "      <td>2</td>\n",
              "      <td>0.594884</td>\n",
              "      <td>0.055021</td>\n",
              "    </tr>\n",
              "    <tr>\n",
              "      <th>44</th>\n",
              "      <td>0.060176</td>\n",
              "      <td>0.450422</td>\n",
              "      <td>0.019175</td>\n",
              "      <td>0.005708</td>\n",
              "      <td>0.005186</td>\n",
              "      <td>2</td>\n",
              "      <td>0.663012</td>\n",
              "      <td>0.060176</td>\n",
              "    </tr>\n",
              "    <tr>\n",
              "      <th>45</th>\n",
              "      <td>0.055769</td>\n",
              "      <td>0.435767</td>\n",
              "      <td>0.019769</td>\n",
              "      <td>0.006968</td>\n",
              "      <td>0.006279</td>\n",
              "      <td>2</td>\n",
              "      <td>0.485411</td>\n",
              "      <td>0.055769</td>\n",
              "    </tr>\n",
              "    <tr>\n",
              "      <th>46</th>\n",
              "      <td>0.067537</td>\n",
              "      <td>1.041993</td>\n",
              "      <td>0.020476</td>\n",
              "      <td>0.007547</td>\n",
              "      <td>0.006043</td>\n",
              "      <td>2</td>\n",
              "      <td>0.759409</td>\n",
              "      <td>0.067537</td>\n",
              "    </tr>\n",
              "    <tr>\n",
              "      <th>47</th>\n",
              "      <td>0.073747</td>\n",
              "      <td>2.442321</td>\n",
              "      <td>0.020017</td>\n",
              "      <td>0.008897</td>\n",
              "      <td>0.005925</td>\n",
              "      <td>2</td>\n",
              "      <td>1.027761</td>\n",
              "      <td>0.073746</td>\n",
              "    </tr>\n",
              "    <tr>\n",
              "      <th>48</th>\n",
              "      <td>0.087830</td>\n",
              "      <td>1.812316</td>\n",
              "      <td>0.021065</td>\n",
              "      <td>0.009607</td>\n",
              "      <td>0.006580</td>\n",
              "      <td>2</td>\n",
              "      <td>0.910280</td>\n",
              "      <td>0.087830</td>\n",
              "    </tr>\n",
              "    <tr>\n",
              "      <th>49</th>\n",
              "      <td>0.058279</td>\n",
              "      <td>0.867019</td>\n",
              "      <td>0.021293</td>\n",
              "      <td>0.008390</td>\n",
              "      <td>0.005941</td>\n",
              "      <td>2</td>\n",
              "      <td>0.721538</td>\n",
              "      <td>0.058279</td>\n",
              "    </tr>\n",
              "    <tr>\n",
              "      <th>50</th>\n",
              "      <td>0.059155</td>\n",
              "      <td>0.018546</td>\n",
              "      <td>0.021317</td>\n",
              "      <td>0.008578</td>\n",
              "      <td>0.007273</td>\n",
              "      <td>2</td>\n",
              "      <td>0.456880</td>\n",
              "      <td>0.059155</td>\n",
              "    </tr>\n",
              "    <tr>\n",
              "      <th>51</th>\n",
              "      <td>0.068056</td>\n",
              "      <td>0.790854</td>\n",
              "      <td>0.021613</td>\n",
              "      <td>0.007069</td>\n",
              "      <td>0.008918</td>\n",
              "      <td>2</td>\n",
              "      <td>0.706469</td>\n",
              "      <td>0.068055</td>\n",
              "    </tr>\n",
              "    <tr>\n",
              "      <th>52</th>\n",
              "      <td>0.071946</td>\n",
              "      <td>-0.071555</td>\n",
              "      <td>0.021867</td>\n",
              "      <td>0.006613</td>\n",
              "      <td>0.011069</td>\n",
              "      <td>2</td>\n",
              "      <td>0.554757</td>\n",
              "      <td>0.071946</td>\n",
              "    </tr>\n",
              "    <tr>\n",
              "      <th>53</th>\n",
              "      <td>0.056840</td>\n",
              "      <td>0.191512</td>\n",
              "      <td>0.022225</td>\n",
              "      <td>0.006325</td>\n",
              "      <td>0.010953</td>\n",
              "      <td>2</td>\n",
              "      <td>0.541151</td>\n",
              "      <td>0.056840</td>\n",
              "    </tr>\n",
              "    <tr>\n",
              "      <th>54</th>\n",
              "      <td>0.056555</td>\n",
              "      <td>0.443638</td>\n",
              "      <td>0.023054</td>\n",
              "      <td>0.007555</td>\n",
              "      <td>0.013117</td>\n",
              "      <td>2</td>\n",
              "      <td>0.514850</td>\n",
              "      <td>0.056555</td>\n",
              "    </tr>\n",
              "    <tr>\n",
              "      <th>55</th>\n",
              "      <td>0.054643</td>\n",
              "      <td>0.087854</td>\n",
              "      <td>0.024179</td>\n",
              "      <td>0.007843</td>\n",
              "      <td>0.012582</td>\n",
              "      <td>2</td>\n",
              "      <td>0.442306</td>\n",
              "      <td>0.054643</td>\n",
              "    </tr>\n",
              "    <tr>\n",
              "      <th>56</th>\n",
              "      <td>0.058659</td>\n",
              "      <td>0.073247</td>\n",
              "      <td>0.024407</td>\n",
              "      <td>0.007940</td>\n",
              "      <td>0.010420</td>\n",
              "      <td>2</td>\n",
              "      <td>0.479718</td>\n",
              "      <td>0.058659</td>\n",
              "    </tr>\n",
              "    <tr>\n",
              "      <th>57</th>\n",
              "      <td>0.063216</td>\n",
              "      <td>0.361887</td>\n",
              "      <td>0.025586</td>\n",
              "      <td>0.007667</td>\n",
              "      <td>0.010651</td>\n",
              "      <td>2</td>\n",
              "      <td>0.540781</td>\n",
              "      <td>0.063216</td>\n",
              "    </tr>\n",
              "    <tr>\n",
              "      <th>58</th>\n",
              "      <td>0.069517</td>\n",
              "      <td>0.978920</td>\n",
              "      <td>0.025629</td>\n",
              "      <td>0.007717</td>\n",
              "      <td>0.010210</td>\n",
              "      <td>2</td>\n",
              "      <td>0.834520</td>\n",
              "      <td>0.069517</td>\n",
              "    </tr>\n",
              "    <tr>\n",
              "      <th>59</th>\n",
              "      <td>0.062046</td>\n",
              "      <td>0.737673</td>\n",
              "      <td>0.024459</td>\n",
              "      <td>0.007342</td>\n",
              "      <td>0.008875</td>\n",
              "      <td>2</td>\n",
              "      <td>0.652336</td>\n",
              "      <td>0.062045</td>\n",
              "    </tr>\n",
              "  </tbody>\n",
              "</table>\n",
              "</div>"
            ],
            "text/plain": [
              "         RMS  Kurtosis     peak1     peak2     peak3 Health       P2P      STD1\n",
              "0   0.066409  0.587488  0.000882  0.004051  0.006303      3  0.613653  0.066409\n",
              "1   0.092479 -0.061449  0.000864  0.001168  0.001974      3  0.688554  0.092479\n",
              "2   0.070198  0.317284  0.001341  0.001535  0.006684      3  0.634557  0.070198\n",
              "3   0.076684  0.576105  0.001258  0.001205  0.004014      3  0.691687  0.076684\n",
              "4   0.073982  1.483103  0.001418  0.001344  0.007760      3  0.837318  0.073979\n",
              "5   0.134210  5.300281  0.001674  0.002654  0.014857      3  2.229877  0.134210\n",
              "6   0.077980 -0.066437  0.000799  0.001851  0.012911      3  0.726927  0.077979\n",
              "7   0.069538  0.591563  0.002228  0.001125  0.006843      3  0.693227  0.069512\n",
              "8   0.068775  0.414617  0.002361  0.001861  0.007643      3  0.739882  0.068771\n",
              "9   0.060055  0.309459  0.002273  0.002789  0.007404      3  0.576223  0.060053\n",
              "10  0.072373  0.258234  0.001854  0.003045  0.008658      3  0.641224  0.072372\n",
              "11  0.066710  0.144638  0.001371  0.004349  0.009389      3  0.562270  0.066710\n",
              "12  0.072269  0.205581  0.001478  0.002382  0.009923      3  0.627963  0.072269\n",
              "13  0.087930  0.277055  0.001201  0.001893  0.009573      3  0.717563  0.087930\n",
              "14  0.083998  0.335401  0.000660  0.000831  0.006234      3  0.774508  0.083998\n",
              "15  0.056199  0.073374  0.000597  0.000980  0.005834      3  0.560080  0.056199\n",
              "16  0.065401  0.389186  0.000654  0.001814  0.004313      3  0.682663  0.065401\n",
              "17  0.113008  0.525195  0.000279  0.000630  0.006200      3  1.005776  0.113007\n",
              "18  0.079926  0.408180  0.001064  0.001648  0.005070      3  0.683637  0.079926\n",
              "19  0.083996  0.752717  0.001034  0.001661  0.005099      3  0.855323  0.083996\n",
              "20  0.070201  0.320754  0.004112  0.000817  0.010450      1  0.658280  0.070200\n",
              "21  0.068027  0.690171  0.004403  0.001857  0.011069      1  0.780636  0.068026\n",
              "22  0.068301  0.121342  0.004361  0.002315  0.010489      1  0.586517  0.068300\n",
              "23  0.070574  0.254679  0.004457  0.002284  0.009322      1  0.665536  0.070574\n",
              "24  0.055106  0.526863  0.004422  0.001481  0.006306      1  0.554762  0.055106\n",
              "25  0.069613  1.312842  0.004482  0.001050  0.007073      1  0.867682  0.069612\n",
              "26  0.067989  0.659562  0.004241  0.002269  0.006601      1  0.703592  0.067989\n",
              "27  0.054388  0.119523  0.004121  0.002915  0.008268      1  0.452135  0.054388\n",
              "28  0.060688  0.806330  0.004210  0.003315  0.006360      1  0.713523  0.060687\n",
              "29  0.071278  1.134833  0.004359  0.002813  0.006800      1  0.773714  0.071277\n",
              "30  0.062920  0.079968  0.004159  0.003927  0.009171      1  0.515387  0.062919\n",
              "31  0.064821  0.206935  0.004733  0.003183  0.006419      1  0.543961  0.064821\n",
              "32  0.068834  0.061469  0.004866  0.002660  0.009636      1  0.580538  0.068834\n",
              "33  0.102545  0.966724  0.004885  0.001564  0.007708      1  0.984023  0.102544\n",
              "34  0.076643  0.140128  0.004877  0.001112  0.007842      1  0.670292  0.076643\n",
              "35  0.100112  0.626386  0.004756  0.001626  0.007332      1  0.963107  0.100112\n",
              "36  0.074788  1.035265  0.004992  0.001425  0.009532      1  0.862067  0.074787\n",
              "37  0.084851  0.488147  0.004860  0.000834  0.006956      1  0.702710  0.084851\n",
              "38  0.070587  0.353240  0.004967  0.004310  0.008510      1  0.728812  0.070539\n",
              "39  0.070229  0.090136  0.005007  0.003834  0.008462      1  0.658625  0.070219\n",
              "40  0.057640 -0.171452  0.017041  0.005680  0.003884      2  0.461003  0.057640\n",
              "41  0.054410  0.074822  0.017592  0.005517  0.003970      2  0.477069  0.054410\n",
              "42  0.070791  0.887641  0.019293  0.005358  0.004869      2  0.746835  0.070791\n",
              "43  0.055021  0.119193  0.018953  0.006275  0.003922      2  0.594884  0.055021\n",
              "44  0.060176  0.450422  0.019175  0.005708  0.005186      2  0.663012  0.060176\n",
              "45  0.055769  0.435767  0.019769  0.006968  0.006279      2  0.485411  0.055769\n",
              "46  0.067537  1.041993  0.020476  0.007547  0.006043      2  0.759409  0.067537\n",
              "47  0.073747  2.442321  0.020017  0.008897  0.005925      2  1.027761  0.073746\n",
              "48  0.087830  1.812316  0.021065  0.009607  0.006580      2  0.910280  0.087830\n",
              "49  0.058279  0.867019  0.021293  0.008390  0.005941      2  0.721538  0.058279\n",
              "50  0.059155  0.018546  0.021317  0.008578  0.007273      2  0.456880  0.059155\n",
              "51  0.068056  0.790854  0.021613  0.007069  0.008918      2  0.706469  0.068055\n",
              "52  0.071946 -0.071555  0.021867  0.006613  0.011069      2  0.554757  0.071946\n",
              "53  0.056840  0.191512  0.022225  0.006325  0.010953      2  0.541151  0.056840\n",
              "54  0.056555  0.443638  0.023054  0.007555  0.013117      2  0.514850  0.056555\n",
              "55  0.054643  0.087854  0.024179  0.007843  0.012582      2  0.442306  0.054643\n",
              "56  0.058659  0.073247  0.024407  0.007940  0.010420      2  0.479718  0.058659\n",
              "57  0.063216  0.361887  0.025586  0.007667  0.010651      2  0.540781  0.063216\n",
              "58  0.069517  0.978920  0.025629  0.007717  0.010210      2  0.834520  0.069517\n",
              "59  0.062046  0.737673  0.024459  0.007342  0.008875      2  0.652336  0.062045"
            ]
          },
          "metadata": {
            "tags": []
          },
          "execution_count": 16
        }
      ]
    },
    {
      "cell_type": "markdown",
      "metadata": {
        "id": "wwDS5TY66OKB"
      },
      "source": [
        "# Feature Selection"
      ]
    },
    {
      "cell_type": "code",
      "metadata": {
        "id": "lQZDMbOc5Nc0",
        "colab": {
          "base_uri": "https://localhost:8080/",
          "height": 313
        },
        "outputId": "74df9bb5-de40-4902-bb75-0c163b339500"
      },
      "source": [
        "# We use the default selection function: the 10% most significant features based on the SelectPercentile function\n",
        "X_indices = np.arange(df_featuresTrain.drop('Health',1).shape[-1])\n",
        "selector = SelectPercentile(f_classif, percentile=10)\n",
        "selector.fit(df_featuresTrain.drop('Health',1), df_featuresTrain['Health'])\n",
        "scores = -np.log10(selector.pvalues_) \n",
        "scores /= scores.max()\n",
        "plt.bar(X_indices - .45, scores, width=.2,\n",
        "        label=r'Univariate score ($-Log(p_{value})$)', color='g')\n",
        "plt.xlabel('Feature')\n",
        "plt.ylabel('Univariable Significance')\n",
        "plt.title('Univariable Feature Impact')"
      ],
      "execution_count": null,
      "outputs": [
        {
          "output_type": "execute_result",
          "data": {
            "text/plain": [
              "Text(0.5, 1.0, 'Univariable Feature Impact')"
            ]
          },
          "metadata": {
            "tags": []
          },
          "execution_count": 17
        },
        {
          "output_type": "display_data",
          "data": {
            "image/png": "[encoded data removed]",
            "text/plain": [
              "<Figure size 432x288 with 1 Axes>"
            ]
          },
          "metadata": {
            "tags": [],
            "needs_background": "light"
          }
        }
      ]
    },
    {
      "cell_type": "markdown",
      "metadata": {
        "id": "RQEN0KWC6fQg"
      },
      "source": [
        "Feature normalization"
      ]
    },
    {
      "cell_type": "code",
      "metadata": {
        "id": "cBDND2OFT1Jn"
      },
      "source": [
        "scaler = MinMaxScaler().fit(df_featuresTrain[['peak1', 'peak2', 'peak3']]) #This uses MinMax scalar \n",
        "Scaled = scaler.transform(df_featuresTrain[['peak1', 'peak2', 'peak3']]) #Peak 1-3 were found to be most impactful after iterative testing"
      ],
      "execution_count": null,
      "outputs": []
    },
    {
      "cell_type": "code",
      "metadata": {
        "colab": {
          "base_uri": "https://localhost:8080/",
          "height": 1000
        },
        "id": "j-7MUwq8UaD5",
        "outputId": "e293610e-95d7-4bb4-efc8-cc6707f6267e"
      },
      "source": [
        "TrainScaled = pd.DataFrame(Scaled,columns = ['peak1', 'peak2', 'peak3'])\n",
        "TrainScaled"
      ],
      "execution_count": null,
      "outputs": [
        {
          "output_type": "execute_result",
          "data": {
            "text/html": [
              "<div>\n",
              "<style scoped>\n",
              "    .dataframe tbody tr th:only-of-type {\n",
              "        vertical-align: middle;\n",
              "    }\n",
              "\n",
              "    .dataframe tbody tr th {\n",
              "        vertical-align: top;\n",
              "    }\n",
              "\n",
              "    .dataframe thead th {\n",
              "        text-align: right;\n",
              "    }\n",
              "</style>\n",
              "<table border=\"1\" class=\"dataframe\">\n",
              "  <thead>\n",
              "    <tr style=\"text-align: right;\">\n",
              "      <th></th>\n",
              "      <th>peak1</th>\n",
              "      <th>peak2</th>\n",
              "      <th>peak3</th>\n",
              "    </tr>\n",
              "  </thead>\n",
              "  <tbody>\n",
              "    <tr>\n",
              "      <th>0</th>\n",
              "      <td>0.023794</td>\n",
              "      <td>0.381039</td>\n",
              "      <td>0.335970</td>\n",
              "    </tr>\n",
              "    <tr>\n",
              "      <th>1</th>\n",
              "      <td>0.023073</td>\n",
              "      <td>0.059917</td>\n",
              "      <td>0.000000</td>\n",
              "    </tr>\n",
              "    <tr>\n",
              "      <th>2</th>\n",
              "      <td>0.041897</td>\n",
              "      <td>0.100794</td>\n",
              "      <td>0.365547</td>\n",
              "    </tr>\n",
              "    <tr>\n",
              "      <th>3</th>\n",
              "      <td>0.038611</td>\n",
              "      <td>0.064070</td>\n",
              "      <td>0.158297</td>\n",
              "    </tr>\n",
              "    <tr>\n",
              "      <th>4</th>\n",
              "      <td>0.044908</td>\n",
              "      <td>0.079486</td>\n",
              "      <td>0.449101</td>\n",
              "    </tr>\n",
              "    <tr>\n",
              "      <th>5</th>\n",
              "      <td>0.055013</td>\n",
              "      <td>0.225494</td>\n",
              "      <td>1.000000</td>\n",
              "    </tr>\n",
              "    <tr>\n",
              "      <th>6</th>\n",
              "      <td>0.020512</td>\n",
              "      <td>0.136049</td>\n",
              "      <td>0.848953</td>\n",
              "    </tr>\n",
              "    <tr>\n",
              "      <th>7</th>\n",
              "      <td>0.076881</td>\n",
              "      <td>0.055146</td>\n",
              "      <td>0.377898</td>\n",
              "    </tr>\n",
              "    <tr>\n",
              "      <th>8</th>\n",
              "      <td>0.082116</td>\n",
              "      <td>0.137113</td>\n",
              "      <td>0.439989</td>\n",
              "    </tr>\n",
              "    <tr>\n",
              "      <th>9</th>\n",
              "      <td>0.078649</td>\n",
              "      <td>0.240471</td>\n",
              "      <td>0.421478</td>\n",
              "    </tr>\n",
              "    <tr>\n",
              "      <th>10</th>\n",
              "      <td>0.062108</td>\n",
              "      <td>0.268962</td>\n",
              "      <td>0.518806</td>\n",
              "    </tr>\n",
              "    <tr>\n",
              "      <th>11</th>\n",
              "      <td>0.043070</td>\n",
              "      <td>0.414256</td>\n",
              "      <td>0.575533</td>\n",
              "    </tr>\n",
              "    <tr>\n",
              "      <th>12</th>\n",
              "      <td>0.047301</td>\n",
              "      <td>0.195198</td>\n",
              "      <td>0.617007</td>\n",
              "    </tr>\n",
              "    <tr>\n",
              "      <th>13</th>\n",
              "      <td>0.036350</td>\n",
              "      <td>0.140685</td>\n",
              "      <td>0.589856</td>\n",
              "    </tr>\n",
              "    <tr>\n",
              "      <th>14</th>\n",
              "      <td>0.015022</td>\n",
              "      <td>0.022329</td>\n",
              "      <td>0.330659</td>\n",
              "    </tr>\n",
              "    <tr>\n",
              "      <th>15</th>\n",
              "      <td>0.012528</td>\n",
              "      <td>0.038911</td>\n",
              "      <td>0.299567</td>\n",
              "    </tr>\n",
              "    <tr>\n",
              "      <th>16</th>\n",
              "      <td>0.014783</td>\n",
              "      <td>0.131828</td>\n",
              "      <td>0.181548</td>\n",
              "    </tr>\n",
              "    <tr>\n",
              "      <th>17</th>\n",
              "      <td>0.000000</td>\n",
              "      <td>0.000000</td>\n",
              "      <td>0.327990</td>\n",
              "    </tr>\n",
              "    <tr>\n",
              "      <th>18</th>\n",
              "      <td>0.030953</td>\n",
              "      <td>0.113343</td>\n",
              "      <td>0.240308</td>\n",
              "    </tr>\n",
              "    <tr>\n",
              "      <th>19</th>\n",
              "      <td>0.029790</td>\n",
              "      <td>0.114806</td>\n",
              "      <td>0.242538</td>\n",
              "    </tr>\n",
              "    <tr>\n",
              "      <th>20</th>\n",
              "      <td>0.151194</td>\n",
              "      <td>0.020832</td>\n",
              "      <td>0.657915</td>\n",
              "    </tr>\n",
              "    <tr>\n",
              "      <th>21</th>\n",
              "      <td>0.162663</td>\n",
              "      <td>0.136696</td>\n",
              "      <td>0.705972</td>\n",
              "    </tr>\n",
              "    <tr>\n",
              "      <th>22</th>\n",
              "      <td>0.161011</td>\n",
              "      <td>0.187736</td>\n",
              "      <td>0.660929</td>\n",
              "    </tr>\n",
              "    <tr>\n",
              "      <th>23</th>\n",
              "      <td>0.164808</td>\n",
              "      <td>0.184211</td>\n",
              "      <td>0.570333</td>\n",
              "    </tr>\n",
              "    <tr>\n",
              "      <th>24</th>\n",
              "      <td>0.163413</td>\n",
              "      <td>0.094783</td>\n",
              "      <td>0.336214</td>\n",
              "    </tr>\n",
              "    <tr>\n",
              "      <th>25</th>\n",
              "      <td>0.165801</td>\n",
              "      <td>0.046767</td>\n",
              "      <td>0.395793</td>\n",
              "    </tr>\n",
              "    <tr>\n",
              "      <th>26</th>\n",
              "      <td>0.156272</td>\n",
              "      <td>0.182568</td>\n",
              "      <td>0.359149</td>\n",
              "    </tr>\n",
              "    <tr>\n",
              "      <th>27</th>\n",
              "      <td>0.151531</td>\n",
              "      <td>0.254491</td>\n",
              "      <td>0.488504</td>\n",
              "    </tr>\n",
              "    <tr>\n",
              "      <th>28</th>\n",
              "      <td>0.155066</td>\n",
              "      <td>0.299112</td>\n",
              "      <td>0.340419</td>\n",
              "    </tr>\n",
              "    <tr>\n",
              "      <th>29</th>\n",
              "      <td>0.160949</td>\n",
              "      <td>0.243172</td>\n",
              "      <td>0.374562</td>\n",
              "    </tr>\n",
              "    <tr>\n",
              "      <th>30</th>\n",
              "      <td>0.153044</td>\n",
              "      <td>0.367271</td>\n",
              "      <td>0.558636</td>\n",
              "    </tr>\n",
              "    <tr>\n",
              "      <th>31</th>\n",
              "      <td>0.175687</td>\n",
              "      <td>0.284430</td>\n",
              "      <td>0.345008</td>\n",
              "    </tr>\n",
              "    <tr>\n",
              "      <th>32</th>\n",
              "      <td>0.180925</td>\n",
              "      <td>0.226139</td>\n",
              "      <td>0.594759</td>\n",
              "    </tr>\n",
              "    <tr>\n",
              "      <th>33</th>\n",
              "      <td>0.181703</td>\n",
              "      <td>0.103972</td>\n",
              "      <td>0.445036</td>\n",
              "    </tr>\n",
              "    <tr>\n",
              "      <th>34</th>\n",
              "      <td>0.181370</td>\n",
              "      <td>0.053675</td>\n",
              "      <td>0.455465</td>\n",
              "    </tr>\n",
              "    <tr>\n",
              "      <th>35</th>\n",
              "      <td>0.176583</td>\n",
              "      <td>0.110952</td>\n",
              "      <td>0.415903</td>\n",
              "    </tr>\n",
              "    <tr>\n",
              "      <th>36</th>\n",
              "      <td>0.185914</td>\n",
              "      <td>0.088513</td>\n",
              "      <td>0.586671</td>\n",
              "    </tr>\n",
              "    <tr>\n",
              "      <th>37</th>\n",
              "      <td>0.180686</td>\n",
              "      <td>0.022693</td>\n",
              "      <td>0.386705</td>\n",
              "    </tr>\n",
              "    <tr>\n",
              "      <th>38</th>\n",
              "      <td>0.184910</td>\n",
              "      <td>0.409956</td>\n",
              "      <td>0.507327</td>\n",
              "    </tr>\n",
              "    <tr>\n",
              "      <th>39</th>\n",
              "      <td>0.186518</td>\n",
              "      <td>0.356870</td>\n",
              "      <td>0.503558</td>\n",
              "    </tr>\n",
              "    <tr>\n",
              "      <th>40</th>\n",
              "      <td>0.661239</td>\n",
              "      <td>0.562556</td>\n",
              "      <td>0.148266</td>\n",
              "    </tr>\n",
              "    <tr>\n",
              "      <th>41</th>\n",
              "      <td>0.682951</td>\n",
              "      <td>0.544358</td>\n",
              "      <td>0.154901</td>\n",
              "    </tr>\n",
              "    <tr>\n",
              "      <th>42</th>\n",
              "      <td>0.750077</td>\n",
              "      <td>0.526691</td>\n",
              "      <td>0.224681</td>\n",
              "    </tr>\n",
              "    <tr>\n",
              "      <th>43</th>\n",
              "      <td>0.736659</td>\n",
              "      <td>0.628823</td>\n",
              "      <td>0.151176</td>\n",
              "    </tr>\n",
              "    <tr>\n",
              "      <th>44</th>\n",
              "      <td>0.745410</td>\n",
              "      <td>0.565714</td>\n",
              "      <td>0.249323</td>\n",
              "    </tr>\n",
              "    <tr>\n",
              "      <th>45</th>\n",
              "      <td>0.768846</td>\n",
              "      <td>0.705997</td>\n",
              "      <td>0.334181</td>\n",
              "    </tr>\n",
              "    <tr>\n",
              "      <th>46</th>\n",
              "      <td>0.796747</td>\n",
              "      <td>0.770522</td>\n",
              "      <td>0.315810</td>\n",
              "    </tr>\n",
              "    <tr>\n",
              "      <th>47</th>\n",
              "      <td>0.778634</td>\n",
              "      <td>0.921002</td>\n",
              "      <td>0.306661</td>\n",
              "    </tr>\n",
              "    <tr>\n",
              "      <th>48</th>\n",
              "      <td>0.819982</td>\n",
              "      <td>1.000000</td>\n",
              "      <td>0.357544</td>\n",
              "    </tr>\n",
              "    <tr>\n",
              "      <th>49</th>\n",
              "      <td>0.828970</td>\n",
              "      <td>0.864411</td>\n",
              "      <td>0.307880</td>\n",
              "    </tr>\n",
              "    <tr>\n",
              "      <th>50</th>\n",
              "      <td>0.829918</td>\n",
              "      <td>0.885406</td>\n",
              "      <td>0.411308</td>\n",
              "    </tr>\n",
              "    <tr>\n",
              "      <th>51</th>\n",
              "      <td>0.841608</td>\n",
              "      <td>0.717328</td>\n",
              "      <td>0.539008</td>\n",
              "    </tr>\n",
              "    <tr>\n",
              "      <th>52</th>\n",
              "      <td>0.851603</td>\n",
              "      <td>0.666480</td>\n",
              "      <td>0.705983</td>\n",
              "    </tr>\n",
              "    <tr>\n",
              "      <th>53</th>\n",
              "      <td>0.865739</td>\n",
              "      <td>0.634368</td>\n",
              "      <td>0.696980</td>\n",
              "    </tr>\n",
              "    <tr>\n",
              "      <th>54</th>\n",
              "      <td>0.898430</td>\n",
              "      <td>0.771406</td>\n",
              "      <td>0.864907</td>\n",
              "    </tr>\n",
              "    <tr>\n",
              "      <th>55</th>\n",
              "      <td>0.942828</td>\n",
              "      <td>0.803502</td>\n",
              "      <td>0.823396</td>\n",
              "    </tr>\n",
              "    <tr>\n",
              "      <th>56</th>\n",
              "      <td>0.951826</td>\n",
              "      <td>0.814331</td>\n",
              "      <td>0.655618</td>\n",
              "    </tr>\n",
              "    <tr>\n",
              "      <th>57</th>\n",
              "      <td>0.998319</td>\n",
              "      <td>0.783867</td>\n",
              "      <td>0.673499</td>\n",
              "    </tr>\n",
              "    <tr>\n",
              "      <th>58</th>\n",
              "      <td>1.000000</td>\n",
              "      <td>0.789444</td>\n",
              "      <td>0.639289</td>\n",
              "    </tr>\n",
              "    <tr>\n",
              "      <th>59</th>\n",
              "      <td>0.953846</td>\n",
              "      <td>0.747682</td>\n",
              "      <td>0.535676</td>\n",
              "    </tr>\n",
              "  </tbody>\n",
              "</table>\n",
              "</div>"
            ],
            "text/plain": [
              "       peak1     peak2     peak3\n",
              "0   0.023794  0.381039  0.335970\n",
              "1   0.023073  0.059917  0.000000\n",
              "2   0.041897  0.100794  0.365547\n",
              "3   0.038611  0.064070  0.158297\n",
              "4   0.044908  0.079486  0.449101\n",
              "5   0.055013  0.225494  1.000000\n",
              "6   0.020512  0.136049  0.848953\n",
              "7   0.076881  0.055146  0.377898\n",
              "8   0.082116  0.137113  0.439989\n",
              "9   0.078649  0.240471  0.421478\n",
              "10  0.062108  0.268962  0.518806\n",
              "11  0.043070  0.414256  0.575533\n",
              "12  0.047301  0.195198  0.617007\n",
              "13  0.036350  0.140685  0.589856\n",
              "14  0.015022  0.022329  0.330659\n",
              "15  0.012528  0.038911  0.299567\n",
              "16  0.014783  0.131828  0.181548\n",
              "17  0.000000  0.000000  0.327990\n",
              "18  0.030953  0.113343  0.240308\n",
              "19  0.029790  0.114806  0.242538\n",
              "20  0.151194  0.020832  0.657915\n",
              "21  0.162663  0.136696  0.705972\n",
              "22  0.161011  0.187736  0.660929\n",
              "23  0.164808  0.184211  0.570333\n",
              "24  0.163413  0.094783  0.336214\n",
              "25  0.165801  0.046767  0.395793\n",
              "26  0.156272  0.182568  0.359149\n",
              "27  0.151531  0.254491  0.488504\n",
              "28  0.155066  0.299112  0.340419\n",
              "29  0.160949  0.243172  0.374562\n",
              "30  0.153044  0.367271  0.558636\n",
              "31  0.175687  0.284430  0.345008\n",
              "32  0.180925  0.226139  0.594759\n",
              "33  0.181703  0.103972  0.445036\n",
              "34  0.181370  0.053675  0.455465\n",
              "35  0.176583  0.110952  0.415903\n",
              "36  0.185914  0.088513  0.586671\n",
              "37  0.180686  0.022693  0.386705\n",
              "38  0.184910  0.409956  0.507327\n",
              "39  0.186518  0.356870  0.503558\n",
              "40  0.661239  0.562556  0.148266\n",
              "41  0.682951  0.544358  0.154901\n",
              "42  0.750077  0.526691  0.224681\n",
              "43  0.736659  0.628823  0.151176\n",
              "44  0.745410  0.565714  0.249323\n",
              "45  0.768846  0.705997  0.334181\n",
              "46  0.796747  0.770522  0.315810\n",
              "47  0.778634  0.921002  0.306661\n",
              "48  0.819982  1.000000  0.357544\n",
              "49  0.828970  0.864411  0.307880\n",
              "50  0.829918  0.885406  0.411308\n",
              "51  0.841608  0.717328  0.539008\n",
              "52  0.851603  0.666480  0.705983\n",
              "53  0.865739  0.634368  0.696980\n",
              "54  0.898430  0.771406  0.864907\n",
              "55  0.942828  0.803502  0.823396\n",
              "56  0.951826  0.814331  0.655618\n",
              "57  0.998319  0.783867  0.673499\n",
              "58  1.000000  0.789444  0.639289\n",
              "59  0.953846  0.747682  0.535676"
            ]
          },
          "metadata": {
            "tags": []
          },
          "execution_count": 19
        }
      ]
    },
    {
      "cell_type": "code",
      "metadata": {
        "colab": {
          "base_uri": "https://localhost:8080/",
          "height": 990
        },
        "id": "Pg9CaPE_UcSY",
        "outputId": "6ddd79ec-94ba-413d-8b94-3b9c73afa088"
      },
      "source": [
        "ScaledTest = scaler.transform(df_featuresTest[['peak1', 'peak2', 'peak3']]) #Scaling test data using training scaler\n",
        "TestScaled = pd.DataFrame(ScaledTest,columns = ['peak1', 'peak2', 'peak3'])\n",
        "TestScaled"
      ],
      "execution_count": null,
      "outputs": [
        {
          "output_type": "execute_result",
          "data": {
            "text/html": [
              "<div>\n",
              "<style scoped>\n",
              "    .dataframe tbody tr th:only-of-type {\n",
              "        vertical-align: middle;\n",
              "    }\n",
              "\n",
              "    .dataframe tbody tr th {\n",
              "        vertical-align: top;\n",
              "    }\n",
              "\n",
              "    .dataframe thead th {\n",
              "        text-align: right;\n",
              "    }\n",
              "</style>\n",
              "<table border=\"1\" class=\"dataframe\">\n",
              "  <thead>\n",
              "    <tr style=\"text-align: right;\">\n",
              "      <th></th>\n",
              "      <th>peak1</th>\n",
              "      <th>peak2</th>\n",
              "      <th>peak3</th>\n",
              "    </tr>\n",
              "  </thead>\n",
              "  <tbody>\n",
              "    <tr>\n",
              "      <th>0</th>\n",
              "      <td>0.000388</td>\n",
              "      <td>0.076641</td>\n",
              "      <td>0.439325</td>\n",
              "    </tr>\n",
              "    <tr>\n",
              "      <th>1</th>\n",
              "      <td>0.012115</td>\n",
              "      <td>0.075610</td>\n",
              "      <td>0.234686</td>\n",
              "    </tr>\n",
              "    <tr>\n",
              "      <th>2</th>\n",
              "      <td>0.032252</td>\n",
              "      <td>0.205598</td>\n",
              "      <td>0.413309</td>\n",
              "    </tr>\n",
              "    <tr>\n",
              "      <th>3</th>\n",
              "      <td>0.033371</td>\n",
              "      <td>0.099107</td>\n",
              "      <td>0.229303</td>\n",
              "    </tr>\n",
              "    <tr>\n",
              "      <th>4</th>\n",
              "      <td>0.027633</td>\n",
              "      <td>0.088319</td>\n",
              "      <td>0.235709</td>\n",
              "    </tr>\n",
              "    <tr>\n",
              "      <th>5</th>\n",
              "      <td>0.029707</td>\n",
              "      <td>-0.012763</td>\n",
              "      <td>0.750839</td>\n",
              "    </tr>\n",
              "    <tr>\n",
              "      <th>6</th>\n",
              "      <td>0.021215</td>\n",
              "      <td>0.128390</td>\n",
              "      <td>0.722744</td>\n",
              "    </tr>\n",
              "    <tr>\n",
              "      <th>7</th>\n",
              "      <td>0.016259</td>\n",
              "      <td>0.023102</td>\n",
              "      <td>0.310814</td>\n",
              "    </tr>\n",
              "    <tr>\n",
              "      <th>8</th>\n",
              "      <td>0.027368</td>\n",
              "      <td>0.010807</td>\n",
              "      <td>0.484940</td>\n",
              "    </tr>\n",
              "    <tr>\n",
              "      <th>9</th>\n",
              "      <td>0.037919</td>\n",
              "      <td>0.042708</td>\n",
              "      <td>0.495084</td>\n",
              "    </tr>\n",
              "    <tr>\n",
              "      <th>10</th>\n",
              "      <td>0.151504</td>\n",
              "      <td>0.153644</td>\n",
              "      <td>0.532937</td>\n",
              "    </tr>\n",
              "    <tr>\n",
              "      <th>11</th>\n",
              "      <td>0.163102</td>\n",
              "      <td>0.137560</td>\n",
              "      <td>0.383163</td>\n",
              "    </tr>\n",
              "    <tr>\n",
              "      <th>12</th>\n",
              "      <td>0.168459</td>\n",
              "      <td>0.149057</td>\n",
              "      <td>0.713199</td>\n",
              "    </tr>\n",
              "    <tr>\n",
              "      <th>13</th>\n",
              "      <td>0.174601</td>\n",
              "      <td>0.218999</td>\n",
              "      <td>0.728240</td>\n",
              "    </tr>\n",
              "    <tr>\n",
              "      <th>14</th>\n",
              "      <td>0.169805</td>\n",
              "      <td>0.338710</td>\n",
              "      <td>0.593756</td>\n",
              "    </tr>\n",
              "    <tr>\n",
              "      <th>15</th>\n",
              "      <td>0.174418</td>\n",
              "      <td>0.303821</td>\n",
              "      <td>0.577166</td>\n",
              "    </tr>\n",
              "    <tr>\n",
              "      <th>16</th>\n",
              "      <td>0.169843</td>\n",
              "      <td>0.182687</td>\n",
              "      <td>0.471563</td>\n",
              "    </tr>\n",
              "    <tr>\n",
              "      <th>17</th>\n",
              "      <td>0.171340</td>\n",
              "      <td>0.192584</td>\n",
              "      <td>0.307569</td>\n",
              "    </tr>\n",
              "    <tr>\n",
              "      <th>18</th>\n",
              "      <td>0.173109</td>\n",
              "      <td>0.333153</td>\n",
              "      <td>0.474567</td>\n",
              "    </tr>\n",
              "    <tr>\n",
              "      <th>19</th>\n",
              "      <td>0.179556</td>\n",
              "      <td>0.436654</td>\n",
              "      <td>0.425204</td>\n",
              "    </tr>\n",
              "    <tr>\n",
              "      <th>20</th>\n",
              "      <td>0.963791</td>\n",
              "      <td>0.781022</td>\n",
              "      <td>0.582059</td>\n",
              "    </tr>\n",
              "    <tr>\n",
              "      <th>21</th>\n",
              "      <td>0.992303</td>\n",
              "      <td>0.733517</td>\n",
              "      <td>0.561613</td>\n",
              "    </tr>\n",
              "    <tr>\n",
              "      <th>22</th>\n",
              "      <td>1.055654</td>\n",
              "      <td>0.814308</td>\n",
              "      <td>0.739488</td>\n",
              "    </tr>\n",
              "    <tr>\n",
              "      <th>23</th>\n",
              "      <td>1.121545</td>\n",
              "      <td>0.966184</td>\n",
              "      <td>0.849527</td>\n",
              "    </tr>\n",
              "    <tr>\n",
              "      <th>24</th>\n",
              "      <td>0.963710</td>\n",
              "      <td>0.832051</td>\n",
              "      <td>0.719250</td>\n",
              "    </tr>\n",
              "    <tr>\n",
              "      <th>25</th>\n",
              "      <td>0.553499</td>\n",
              "      <td>0.852512</td>\n",
              "      <td>0.449886</td>\n",
              "    </tr>\n",
              "    <tr>\n",
              "      <th>26</th>\n",
              "      <td>0.535131</td>\n",
              "      <td>0.728469</td>\n",
              "      <td>0.098645</td>\n",
              "    </tr>\n",
              "    <tr>\n",
              "      <th>27</th>\n",
              "      <td>0.533960</td>\n",
              "      <td>0.573084</td>\n",
              "      <td>0.236491</td>\n",
              "    </tr>\n",
              "    <tr>\n",
              "      <th>28</th>\n",
              "      <td>0.517623</td>\n",
              "      <td>1.018800</td>\n",
              "      <td>0.240063</td>\n",
              "    </tr>\n",
              "    <tr>\n",
              "      <th>29</th>\n",
              "      <td>0.506443</td>\n",
              "      <td>1.076468</td>\n",
              "      <td>0.117086</td>\n",
              "    </tr>\n",
              "  </tbody>\n",
              "</table>\n",
              "</div>"
            ],
            "text/plain": [
              "       peak1     peak2     peak3\n",
              "0   0.000388  0.076641  0.439325\n",
              "1   0.012115  0.075610  0.234686\n",
              "2   0.032252  0.205598  0.413309\n",
              "3   0.033371  0.099107  0.229303\n",
              "4   0.027633  0.088319  0.235709\n",
              "5   0.029707 -0.012763  0.750839\n",
              "6   0.021215  0.128390  0.722744\n",
              "7   0.016259  0.023102  0.310814\n",
              "8   0.027368  0.010807  0.484940\n",
              "9   0.037919  0.042708  0.495084\n",
              "10  0.151504  0.153644  0.532937\n",
              "11  0.163102  0.137560  0.383163\n",
              "12  0.168459  0.149057  0.713199\n",
              "13  0.174601  0.218999  0.728240\n",
              "14  0.169805  0.338710  0.593756\n",
              "15  0.174418  0.303821  0.577166\n",
              "16  0.169843  0.182687  0.471563\n",
              "17  0.171340  0.192584  0.307569\n",
              "18  0.173109  0.333153  0.474567\n",
              "19  0.179556  0.436654  0.425204\n",
              "20  0.963791  0.781022  0.582059\n",
              "21  0.992303  0.733517  0.561613\n",
              "22  1.055654  0.814308  0.739488\n",
              "23  1.121545  0.966184  0.849527\n",
              "24  0.963710  0.832051  0.719250\n",
              "25  0.553499  0.852512  0.449886\n",
              "26  0.535131  0.728469  0.098645\n",
              "27  0.533960  0.573084  0.236491\n",
              "28  0.517623  1.018800  0.240063\n",
              "29  0.506443  1.076468  0.117086"
            ]
          },
          "metadata": {
            "tags": []
          },
          "execution_count": 20
        }
      ]
    },
    {
      "cell_type": "markdown",
      "metadata": {
        "id": "7uC5uR-a6512"
      },
      "source": [
        "# Support Vector Machine"
      ]
    },
    {
      "cell_type": "markdown",
      "metadata": {
        "id": "A_bm73q58GJM"
      },
      "source": [
        "##Training"
      ]
    },
    {
      "cell_type": "code",
      "metadata": {
        "id": "0XZmbvvsW5ew"
      },
      "source": [
        "from sklearn import svm"
      ],
      "execution_count": null,
      "outputs": []
    },
    {
      "cell_type": "code",
      "metadata": {
        "id": "gq0W5NbPUzRv"
      },
      "source": [
        "svm_model = svm.SVC() "
      ],
      "execution_count": null,
      "outputs": []
    },
    {
      "cell_type": "code",
      "metadata": {
        "id": "momO80AnWg4H"
      },
      "source": [
        "from sklearn.model_selection import train_test_split #Spitting training data into training and validation set\n",
        "X_train, X_test, y_train, y_test = train_test_split(TrainScaled, df_featuresTrain['Health'].astype('int'), test_size=0.3, random_state=0)"
      ],
      "execution_count": null,
      "outputs": []
    },
    {
      "cell_type": "code",
      "metadata": {
        "colab": {
          "base_uri": "https://localhost:8080/"
        },
        "id": "m8EhtbBzXQi6",
        "outputId": "26cfb8fe-1f41-4100-aaab-e5a810d7647a"
      },
      "source": [
        "svm_model.fit(X_train, y_train) #Fitting model based on training data and labels"
      ],
      "execution_count": null,
      "outputs": [
        {
          "output_type": "execute_result",
          "data": {
            "text/plain": [
              "SVC(C=1.0, break_ties=False, cache_size=200, class_weight=None, coef0=0.0,\n",
              "    decision_function_shape='ovr', degree=3, gamma='scale', kernel='rbf',\n",
              "    max_iter=-1, probability=False, random_state=None, shrinking=True,\n",
              "    tol=0.001, verbose=False)"
            ]
          },
          "metadata": {
            "tags": []
          },
          "execution_count": 24
        }
      ]
    },
    {
      "cell_type": "code",
      "metadata": {
        "id": "7L9sONFlaYbb",
        "colab": {
          "base_uri": "https://localhost:8080/"
        },
        "outputId": "bbf46c3e-d8b3-4ebe-dcad-603911620ce2"
      },
      "source": [
        "y_train_pred = svm_model.predict(X_train)\n",
        "y_train_pred"
      ],
      "execution_count": null,
      "outputs": [
        {
          "output_type": "execute_result",
          "data": {
            "text/plain": [
              "array([3, 1, 2, 1, 2, 2, 3, 2, 1, 3, 3, 1, 3, 2, 1, 2, 1, 3, 1, 1, 3, 2,\n",
              "       2, 2, 1, 3, 3, 2, 1, 3, 1, 1, 1, 3, 1, 1, 2, 3, 3, 2, 2, 2])"
            ]
          },
          "metadata": {
            "tags": []
          },
          "execution_count": 25
        }
      ]
    },
    {
      "cell_type": "code",
      "metadata": {
        "id": "YkE8xiw17IPE",
        "colab": {
          "base_uri": "https://localhost:8080/",
          "height": 313
        },
        "outputId": "fedf8ec1-f043-4d7f-8c45-8c2d6d833001"
      },
      "source": [
        "sp = list(range(len(y_train_pred))) #Training Data\n",
        "plt.scatter(sp, y_train_pred)\n",
        "plt.xlabel('Sample #')\n",
        "plt.ylabel('Predicted Target Value')\n",
        "plt.title('Training Set Predicted Labels')"
      ],
      "execution_count": null,
      "outputs": [
        {
          "output_type": "execute_result",
          "data": {
            "text/plain": [
              "Text(0.5, 1.0, 'Training Set Predicted Labels')"
            ]
          },
          "metadata": {
            "tags": []
          },
          "execution_count": 26
        },
        {
          "output_type": "display_data",
          "data": {
            "image/png": "[encoded data removed]",
            "text/plain": [
              "<Figure size 432x288 with 1 Axes>"
            ]
          },
          "metadata": {
            "tags": [],
            "needs_background": "light"
          }
        }
      ]
    },
    {
      "cell_type": "code",
      "metadata": {
        "id": "jaCsxf8e7bve",
        "colab": {
          "base_uri": "https://localhost:8080/"
        },
        "outputId": "63523e9b-39c9-4340-9b1e-568d81c00cf1"
      },
      "source": [
        "y_test_pred = svm_model.predict(X_test) #Predicting labels using validation set\n",
        "y_test_pred"
      ],
      "execution_count": null,
      "outputs": [
        {
          "output_type": "execute_result",
          "data": {
            "text/plain": [
              "array([1, 1, 2, 1, 3, 3, 1, 2, 2, 1, 3, 1, 1, 2, 1, 2, 2, 3])"
            ]
          },
          "metadata": {
            "tags": []
          },
          "execution_count": 27
        }
      ]
    },
    {
      "cell_type": "code",
      "metadata": {
        "id": "rY6Q2mLn7V6z",
        "colab": {
          "base_uri": "https://localhost:8080/",
          "height": 313
        },
        "outputId": "3edb32f1-bf3d-46c0-a67c-e0047af30db9"
      },
      "source": [
        "sp = list(range(len(y_test_pred))) #Testing Data (Validation)\n",
        "plt.scatter(sp, y_test_pred)\n",
        "plt.xlabel('Sample #')\n",
        "plt.ylabel('Predicted Target Value')\n",
        "plt.title('Validation Set Predicted Labels')"
      ],
      "execution_count": null,
      "outputs": [
        {
          "output_type": "execute_result",
          "data": {
            "text/plain": [
              "Text(0.5, 1.0, 'Validation Set Predicted Labels')"
            ]
          },
          "metadata": {
            "tags": []
          },
          "execution_count": 28
        },
        {
          "output_type": "display_data",
          "data": {
            "image/png": "[encoded data removed]",
            "text/plain": [
              "<Figure size 432x288 with 1 Axes>"
            ]
          },
          "metadata": {
            "tags": [],
            "needs_background": "light"
          }
        }
      ]
    },
    {
      "cell_type": "code",
      "metadata": {
        "colab": {
          "base_uri": "https://localhost:8080/",
          "height": 266
        },
        "id": "7kO3oXBKcpfk",
        "outputId": "451904cc-0bdd-4d7f-fbae-6b193c02d7e3"
      },
      "source": [
        "ax=plt.subplot(projection='3d') #Plotting a 3 dimension feature map to illustrate where each type of training data falls with respect to the 3 selected features.\n",
        "ax.scatter(TrainScaled['peak1'][df_featuresTrain['Health']==1],TrainScaled['peak2'][df_featuresTrain['Health']==1],TrainScaled['peak3'][df_featuresTrain['Health']==1],label='Unbalanced1', color='blue')\n",
        "ax.scatter(TrainScaled['peak1'][df_featuresTrain['Health']==2],TrainScaled['peak2'][df_featuresTrain['Health']==2],TrainScaled['peak3'][df_featuresTrain['Health']==2],label='Unbalanced2', color='red')\n",
        "ax.scatter(TrainScaled['peak1'][df_featuresTrain['Health']==3],TrainScaled['peak2'][df_featuresTrain['Health']==3],TrainScaled['peak3'][df_featuresTrain['Health']==3],label='Healthy', color='green')\n",
        "ax.scatter(X_train['peak3'][y_train!=y_train_pred],X_train['peak1'][y_train!=y_train_pred],X_train['peak2'][y_train!=y_train_pred],label='Wrong classification',color='black') \n",
        "#Checking the validation prediction with actual labels\n",
        "plt.title('3D visualization of Data Separation')\n",
        "plt.xlabel('peak1')\n",
        "plt.ylabel('peak2')\n",
        "plt.legend()\n"
      ],
      "execution_count": null,
      "outputs": [
        {
          "output_type": "execute_result",
          "data": {
            "text/plain": [
              "<matplotlib.legend.Legend at 0x7fa282394490>"
            ]
          },
          "metadata": {
            "tags": []
          },
          "execution_count": 29
        },
        {
          "output_type": "display_data",
          "data": {
            "image/png": "[encoded data removed]",
            "text/plain": [
              "<Figure size 432x288 with 1 Axes>"
            ]
          },
          "metadata": {
            "tags": [],
            "needs_background": "light"
          }
        }
      ]
    },
    {
      "cell_type": "code",
      "metadata": {
        "id": "7zN3tnJX8EP0",
        "colab": {
          "base_uri": "https://localhost:8080/",
          "height": 301
        },
        "outputId": "e0534aa9-9f49-4602-c1c3-b35ba935ad5b"
      },
      "source": [
        "from sklearn.metrics import confusion_matrix #performance evaluation usig confusion matrix\n",
        "import seaborn as sn\n",
        "confusion_matrix = pd.crosstab(y_test, y_test_pred, rownames=['Actual'], colnames=['Predicted'])\n",
        "sn.heatmap(confusion_matrix, annot=True)"
      ],
      "execution_count": null,
      "outputs": [
        {
          "output_type": "execute_result",
          "data": {
            "text/plain": [
              "<matplotlib.axes._subplots.AxesSubplot at 0x7fa277ea69d0>"
            ]
          },
          "metadata": {
            "tags": []
          },
          "execution_count": 30
        },
        {
          "output_type": "display_data",
          "data": {
            "image/png": "[encoded data removed]",
            "text/plain": [
              "<Figure size 432x288 with 2 Axes>"
            ]
          },
          "metadata": {
            "tags": [],
            "needs_background": "light"
          }
        }
      ]
    },
    {
      "cell_type": "markdown",
      "metadata": {
        "id": "xiirJB_K8Md-"
      },
      "source": [
        "##Testing"
      ]
    },
    {
      "cell_type": "code",
      "metadata": {
        "colab": {
          "base_uri": "https://localhost:8080/"
        },
        "id": "uwEpSSmSD3Gb",
        "outputId": "5da1ac06-dd05-4c80-ec7f-386772e17054"
      },
      "source": [
        "y_test_pred"
      ],
      "execution_count": null,
      "outputs": [
        {
          "output_type": "execute_result",
          "data": {
            "text/plain": [
              "array([1, 1, 2, 1, 3, 3, 1, 2, 2, 1, 3, 1, 1, 2, 1, 2, 2, 3])"
            ]
          },
          "metadata": {
            "tags": []
          },
          "execution_count": 31
        }
      ]
    },
    {
      "cell_type": "code",
      "metadata": {
        "id": "nJGHGHmSgNDe"
      },
      "source": [
        "y1 = svm_model.predict(TestScaled)"
      ],
      "execution_count": null,
      "outputs": []
    },
    {
      "cell_type": "code",
      "metadata": {
        "colab": {
          "base_uri": "https://localhost:8080/"
        },
        "id": "a15j7uFDgnkb",
        "outputId": "b22540ad-b7cd-40b6-dba1-78986a719c1e"
      },
      "source": [
        "y1"
      ],
      "execution_count": null,
      "outputs": [
        {
          "output_type": "execute_result",
          "data": {
            "text/plain": [
              "array([3, 3, 3, 3, 3, 3, 3, 3, 3, 3, 1, 1, 1, 1, 1, 1, 1, 1, 1, 1, 2, 2,\n",
              "       2, 2, 2, 2, 2, 2, 2, 2])"
            ]
          },
          "metadata": {
            "tags": []
          },
          "execution_count": 33
        }
      ]
    },
    {
      "cell_type": "code",
      "metadata": {
        "colab": {
          "base_uri": "https://localhost:8080/",
          "height": 313
        },
        "id": "vNvI0e0zgoN1",
        "outputId": "067a1b79-efa3-4aa5-e845-c582de1a17fd"
      },
      "source": [
        "sp = list(range(30))\n",
        "plt.scatter(sp, y1)\n",
        "plt.xlabel('Sample #')\n",
        "plt.ylabel('Predicted Target Value')\n",
        "plt.title('Test Set Predicted Labels')"
      ],
      "execution_count": null,
      "outputs": [
        {
          "output_type": "execute_result",
          "data": {
            "text/plain": [
              "Text(0.5, 1.0, 'Test Set Predicted Labels')"
            ]
          },
          "metadata": {
            "tags": []
          },
          "execution_count": 34
        },
        {
          "output_type": "display_data",
          "data": {
            "image/png": "[encoded data removed]",
            "text/plain": [
              "<Figure size 432x288 with 1 Axes>"
            ]
          },
          "metadata": {
            "tags": [],
            "needs_background": "light"
          }
        }
      ]
    },
    {
      "cell_type": "code",
      "metadata": {
        "id": "r67GNCaKEwdc"
      },
      "source": [
        "Test_Label=np.array([3,3,3,3,3,3,3,3,3,3,1,1,1,1,1,1,1,1,1,1,2,2,2,2,2,2,2,2,2,2])"
      ],
      "execution_count": null,
      "outputs": []
    },
    {
      "cell_type": "code",
      "metadata": {
        "colab": {
          "base_uri": "https://localhost:8080/",
          "height": 301
        },
        "id": "3LruAU8KElt-",
        "outputId": "dc8a3ef2-7192-4472-b767-cd78ae3428c2"
      },
      "source": [
        "confusion_matrix_SVM = pd.crosstab(y1, Test_Label, rownames=['Actual'], colnames=['Predicted'])\n",
        "sn.heatmap(confusion_matrix_SVM, annot=True)"
      ],
      "execution_count": null,
      "outputs": [
        {
          "output_type": "execute_result",
          "data": {
            "text/plain": [
              "<matplotlib.axes._subplots.AxesSubplot at 0x7fa277da5510>"
            ]
          },
          "metadata": {
            "tags": []
          },
          "execution_count": 36
        },
        {
          "output_type": "display_data",
          "data": {
            "image/png": "[encoded data removed]",
            "text/plain": [
              "<Figure size 432x288 with 2 Axes>"
            ]
          },
          "metadata": {
            "tags": [],
            "needs_background": "light"
          }
        }
      ]
    },
    {
      "cell_type": "markdown",
      "metadata": {
        "id": "jAVdm6eH8PgH"
      },
      "source": [
        "# Self Organizing Map "
      ]
    },
    {
      "cell_type": "code",
      "metadata": {
        "colab": {
          "base_uri": "https://localhost:8080/"
        },
        "id": "_z9WOYU5fI6K",
        "outputId": "39ec1862-9d9e-49ea-f903-7eab590274c1"
      },
      "source": [
        "pip install minisom "
      ],
      "execution_count": null,
      "outputs": [
        {
          "output_type": "stream",
          "text": [
            "Collecting minisom\n",
            "  Downloading https://files.pythonhosted.org/packages/88/c9/7ef2caebca23a1f1803a057c3df1aef219e230acc4fa824c0944432b6b7a/MiniSom-2.2.9.tar.gz\n",
            "Building wheels for collected packages: minisom\n",
            "  Building wheel for minisom (setup.py) ... \u001b[?25l\u001b[?25hdone\n",
            "  Created wheel for minisom: filename=MiniSom-2.2.9-cp37-none-any.whl size=8595 sha256=943260932cfa4270d86013ff6100973bafb027ee846ba42dff72cf2a887d7cbc\n",
            "  Stored in directory: /root/.cache/pip/wheels/de/a0/08/5234d6b02b29c561f62b6c985e2eb7d480fb0b92359a8c74e4\n",
            "Successfully built minisom\n",
            "Installing collected packages: minisom\n",
            "Successfully installed minisom-2.2.9\n"
          ],
          "name": "stdout"
        }
      ]
    },
    {
      "cell_type": "code",
      "metadata": {
        "id": "jZnq4cxfTUGI",
        "colab": {
          "base_uri": "https://localhost:8080/"
        },
        "outputId": "f0bc4ca3-9744-4bab-bad7-eb53a74e244c"
      },
      "source": [
        "pip install sklearn-som"
      ],
      "execution_count": null,
      "outputs": [
        {
          "output_type": "stream",
          "text": [
            "Collecting sklearn-som\n",
            "  Downloading https://files.pythonhosted.org/packages/03/fd/ef7e4da6b1a2b40b8d9fe2271eacdd962f4d0053fe447e4577997d4fa1d5/sklearn_som-1.0.1-py3-none-any.whl\n",
            "Requirement already satisfied: numpy in /usr/local/lib/python3.7/dist-packages (from sklearn-som) (1.19.5)\n",
            "Installing collected packages: sklearn-som\n",
            "Successfully installed sklearn-som-1.0.1\n"
          ],
          "name": "stdout"
        }
      ]
    },
    {
      "cell_type": "markdown",
      "metadata": {
        "id": "ZJ5GlpZf8rnu"
      },
      "source": [
        "## SKlearn SOM"
      ]
    },
    {
      "cell_type": "code",
      "metadata": {
        "id": "RXwyCU6NRXhm",
        "colab": {
          "base_uri": "https://localhost:8080/",
          "height": 319
        },
        "outputId": "61878e92-f5f5-4b61-82c8-9d9d59a539d9"
      },
      "source": [
        "from sklearn_som.som import SOM"
      ],
      "execution_count": null,
      "outputs": [
        {
          "output_type": "error",
          "ename": "ModuleNotFoundError",
          "evalue": "ignored",
          "traceback": [
            "\u001b[0;31m---------------------------------------------------------------------------\u001b[0m",
            "\u001b[0;31mModuleNotFoundError\u001b[0m                       Traceback (most recent call last)",
            "\u001b[0;32m<ipython-input-1-549cf2e54cfc>\u001b[0m in \u001b[0;36m<module>\u001b[0;34m()\u001b[0m\n\u001b[0;32m----> 1\u001b[0;31m \u001b[0;32mfrom\u001b[0m \u001b[0msklearn_som\u001b[0m\u001b[0;34m.\u001b[0m\u001b[0msom\u001b[0m \u001b[0;32mimport\u001b[0m \u001b[0mSOM\u001b[0m\u001b[0;34m\u001b[0m\u001b[0;34m\u001b[0m\u001b[0m\n\u001b[0m",
            "\u001b[0;31mModuleNotFoundError\u001b[0m: No module named 'sklearn_som'",
            "",
            "\u001b[0;31m---------------------------------------------------------------------------\u001b[0;32m\nNOTE: If your import is failing due to a missing package, you can\nmanually install dependencies using either !pip or !apt.\n\nTo view examples of installing some common dependencies, click the\n\"Open Examples\" button below.\n\u001b[0;31m---------------------------------------------------------------------------\u001b[0m\n"
          ]
        }
      ]
    },
    {
      "cell_type": "code",
      "metadata": {
        "id": "XedGnJ_mRc9P"
      },
      "source": [
        "som2 = SOM(m=3, n=1, dim=3, lr=0.7,sigma=1)  #Setting SOM parameters "
      ],
      "execution_count": null,
      "outputs": []
    },
    {
      "cell_type": "code",
      "metadata": {
        "id": "c4LciK1jRtUW"
      },
      "source": [
        "som2.fit(np.array(TrainScaled[['peak1','peak2', 'peak3']])) #Fitting training features to SOM model"
      ],
      "execution_count": null,
      "outputs": []
    },
    {
      "cell_type": "code",
      "metadata": {
        "id": "YmDBbLkjRzjo"
      },
      "source": [
        "predictions = som2.predict(np.array(TestScaled[['peak1', 'peak2', 'peak3']])) #Using SOM to predict test data performance"
      ],
      "execution_count": null,
      "outputs": []
    },
    {
      "cell_type": "code",
      "metadata": {
        "colab": {
          "base_uri": "https://localhost:8080/"
        },
        "id": "rksrQ0HuSCvE",
        "outputId": "6ba0b210-48ba-40b7-bfd1-d8d29f82696e"
      },
      "source": [
        "predictions"
      ],
      "execution_count": null,
      "outputs": [
        {
          "output_type": "execute_result",
          "data": {
            "text/plain": [
              "array([2, 2, 2, 2, 2, 2, 2, 2, 2, 2, 2, 2, 2, 2, 1, 2, 2, 2, 1, 1, 0, 0,\n",
              "       0, 0, 0, 0, 0, 1, 0, 0])"
            ]
          },
          "metadata": {
            "tags": []
          },
          "execution_count": 49
        }
      ]
    },
    {
      "cell_type": "code",
      "metadata": {
        "colab": {
          "base_uri": "https://localhost:8080/",
          "height": 313
        },
        "id": "sktrwtq3SEsU",
        "outputId": "88972d1b-933b-42ad-a855-d25dc3b40973"
      },
      "source": [
        "plt.scatter(sp, predictions)\n",
        "plt.xlabel('Sample #')\n",
        "plt.ylabel('Unlabeled Cluster')\n",
        "plt.title('SOM Clustering of Test Data')"
      ],
      "execution_count": null,
      "outputs": [
        {
          "output_type": "execute_result",
          "data": {
            "text/plain": [
              "Text(0.5, 1.0, 'SOM Clustering of Test Data')"
            ]
          },
          "metadata": {
            "tags": []
          },
          "execution_count": 50
        },
        {
          "output_type": "display_data",
          "data": {
            "image/png": "[encoded data removed]",
            "text/plain": [
              "<Figure size 432x288 with 1 Axes>"
            ]
          },
          "metadata": {
            "tags": [],
            "needs_background": "light"
          }
        }
      ]
    },
    {
      "cell_type": "code",
      "metadata": {
        "id": "KYskCgEFGTVa"
      },
      "source": [
        "Test_Label_SOM=np.array([2,2,2,2,2,2,2,2,2,2,1,1,1,1,1,1,1,1,1,1,0,0,0,0,0,0,0,0,0,0])"
      ],
      "execution_count": null,
      "outputs": []
    },
    {
      "cell_type": "code",
      "metadata": {
        "colab": {
          "base_uri": "https://localhost:8080/",
          "height": 301
        },
        "id": "7jo_7iP7F8q4",
        "outputId": "7ba0aed6-0b5a-4502-e13c-246a23e4b836"
      },
      "source": [
        "confusion_matrix_SOM = pd.crosstab(predictions, Test_Label_SOM, rownames=['Actual'], colnames=['Predicted'])\n",
        "sn.heatmap(confusion_matrix_SOM, annot=True)"
      ],
      "execution_count": null,
      "outputs": [
        {
          "output_type": "execute_result",
          "data": {
            "text/plain": [
              "<matplotlib.axes._subplots.AxesSubplot at 0x7fa277491b90>"
            ]
          },
          "metadata": {
            "tags": []
          },
          "execution_count": 52
        },
        {
          "output_type": "display_data",
          "data": {
            "image/png": "[encoded data removed]",
            "text/plain": [
              "<Figure size 432x288 with 2 Axes>"
            ]
          },
          "metadata": {
            "tags": [],
            "needs_background": "light"
          }
        }
      ]
    },
    {
      "cell_type": "markdown",
      "metadata": {
        "id": "ohypJO-2-poo"
      },
      "source": [
        "## MiniSom SOM"
      ]
    },
    {
      "cell_type": "code",
      "metadata": {
        "id": "oD-jKqPllaf5"
      },
      "source": [
        "from minisom import MiniSom\n",
        "import pandas as pd\n",
        "import numpy as np\n",
        "import matplotlib.pyplot as plt\n",
        "from matplotlib.patches import RegularPolygon, Ellipse\n",
        "from mpl_toolkits.axes_grid1 import make_axes_locatable\n",
        "from matplotlib import cm, colorbar\n",
        "from matplotlib.lines import Line2D"
      ],
      "execution_count": null,
      "outputs": []
    },
    {
      "cell_type": "code",
      "metadata": {
        "colab": {
          "base_uri": "https://localhost:8080/"
        },
        "id": "G6FNAiqml8-d",
        "outputId": "e37ac48f-c0fb-44e6-80e4-51c3d81af708"
      },
      "source": [
        "t = df_featuresTrain['Health'].values\n",
        "data = TrainScaled\n",
        "data = data.values \n",
        "\n",
        "# initialization and training of 15x15 SOM\n",
        "som = MiniSom(15, 15, data.shape[1], sigma=1, learning_rate=.7, activation_distance='euclidean',\n",
        "              topology='hexagonal', neighborhood_function='gaussian', random_seed=5)\n",
        "\n",
        "som.train(data, 2000, verbose=True)"
      ],
      "execution_count": null,
      "outputs": [
        {
          "output_type": "stream",
          "text": [
            " [ 2000 / 2000 ] 100% - 0:00:00 left \n",
            " quantization error: 0.003681936145621964\n"
          ],
          "name": "stdout"
        }
      ]
    },
    {
      "cell_type": "code",
      "metadata": {
        "id": "brjbYYQtlTuO"
      },
      "source": [
        "xx, yy = som.get_euclidean_coordinates() #Generating a U-Matrix\n",
        "umatrix = som.distance_map()\n",
        "weights = som.get_weights()"
      ],
      "execution_count": null,
      "outputs": []
    },
    {
      "cell_type": "code",
      "metadata": {
        "colab": {
          "base_uri": "https://localhost:8080/",
          "height": 287
        },
        "id": "UermCSLkp0TK",
        "outputId": "07b7636d-7580-4829-8690-f383bc680b8f"
      },
      "source": [
        "u_matrix = som.distance_map() #Plotting U-matrix\n",
        "plt.imshow(np.squeeze(u_matrix), cmap=\"Blues\")\n",
        "plt.colorbar()"
      ],
      "execution_count": null,
      "outputs": [
        {
          "output_type": "execute_result",
          "data": {
            "text/plain": [
              "<matplotlib.colorbar.Colorbar at 0x7fa277295d50>"
            ]
          },
          "metadata": {
            "tags": []
          },
          "execution_count": 58
        },
        {
          "output_type": "display_data",
          "data": {
            "image/png": "[encoded data removed]",
            "text/plain": [
              "<Figure size 432x288 with 2 Axes>"
            ]
          },
          "metadata": {
            "tags": [],
            "needs_background": "light"
          }
        }
      ]
    },
    {
      "cell_type": "markdown",
      "metadata": {
        "id": "yHxZTIUJ-9sh"
      },
      "source": [
        "Developing Hexagonal SOM U-Matrix with hit-map overlay for the different classes"
      ]
    },
    {
      "cell_type": "code",
      "metadata": {
        "colab": {
          "base_uri": "https://localhost:8080/",
          "height": 536
        },
        "id": "Eq0HNdu9lStd",
        "outputId": "5c70e9b8-20d8-4933-d60d-b4b7242b570f"
      },
      "source": [
        "f = plt.figure(figsize=(10,10)) #For python setup code, adapted from https://github.com/JustGlowing/minisom/blob/master/examples/HexagonalTopology.ipynb\n",
        "ax = f.add_subplot(111)\n",
        "\n",
        "ax.set_aspect('equal')\n",
        "\n",
        "# iteratively add hexagons\n",
        "for i in range(weights.shape[0]):\n",
        "    for j in range(weights.shape[1]):\n",
        "        wy = yy[(i, j)] * np.sqrt(3) / 2\n",
        "        hex = RegularPolygon((xx[(i, j)], wy), \n",
        "                             numVertices=6, \n",
        "                             radius=.95 / np.sqrt(3),\n",
        "                             facecolor=cm.Blues(umatrix[i, j]), \n",
        "                             alpha=.4, \n",
        "                             edgecolor='gray')\n",
        "        ax.add_patch(hex)\n",
        "\n",
        "markers = ['o', '+', 'x']\n",
        "colors = ['C0', 'C1', 'C2']\n",
        "for cnt, x in enumerate(data):\n",
        "    # getting the winner\n",
        "    w = som.winner(x)\n",
        "    # place a marker on the winning position for the sample xx\n",
        "    wx, wy = som.convert_map_to_euclidean(w) \n",
        "    wy = wy * np.sqrt(3) / 2\n",
        "    plt.plot(wx, wy, \n",
        "             markers[cnt//20], \n",
        "             markerfacecolor='None',\n",
        "             markeredgecolor=colors[cnt//20], \n",
        "             markersize=12, \n",
        "             markeredgewidth=2)\n",
        "\n",
        "\n",
        "xrange = np.arange(weights.shape[0])\n",
        "yrange = np.arange(weights.shape[1])\n",
        "plt.xticks(xrange-.5, xrange)\n",
        "plt.yticks(yrange * np.sqrt(3) / 2, yrange)\n",
        "\n",
        "divider = make_axes_locatable(plt.gca())\n",
        "ax_cb = divider.new_horizontal(size=\"5%\", pad=0.05)    \n",
        "cb1 = colorbar.ColorbarBase(ax_cb, cmap=cm.Blues, \n",
        "                            orientation='vertical', alpha=.4)\n",
        "cb1.ax.get_yaxis().labelpad = 16\n",
        "cb1.ax.set_ylabel('distance from neurons in the neighbourhood',\n",
        "                  rotation=270, fontsize=16)\n",
        "plt.gcf().add_axes(ax_cb)\n",
        "\n",
        "legend_elements = [Line2D([0], [0], marker='o', color='C0', label='Healthy',\n",
        "                   markerfacecolor='w', markersize=14, linestyle='None', markeredgewidth=2),\n",
        "                   Line2D([0], [0], marker='+', color='C1', label='Unbalanced 1',\n",
        "                   markerfacecolor='w', markersize=14, linestyle='None', markeredgewidth=2),\n",
        "                   Line2D([0], [0], marker='x', color='C2', label='Unbalanced 2',\n",
        "                   markerfacecolor='w', markersize=14, linestyle='None', markeredgewidth=2)]\n",
        "ax.legend(handles=legend_elements, bbox_to_anchor=(0.1, 1.08), loc='upper left', \n",
        "          borderaxespad=0., ncol=3, fontsize=14)\n",
        "\n",
        "plt.show()"
      ],
      "execution_count": null,
      "outputs": [
        {
          "output_type": "display_data",
          "data": {
            "image/png": "[encoded data removed]",
            "text/plain": [
              "<Figure size 720x720 with 2 Axes>"
            ]
          },
          "metadata": {
            "tags": [],
            "needs_background": "light"
          }
        }
      ]
    },
    {
      "cell_type": "code",
      "metadata": {
        "id": "QKRRan-9sBDL"
      },
      "source": [
        "som."
      ],
      "execution_count": null,
      "outputs": []
    }
  ]
}